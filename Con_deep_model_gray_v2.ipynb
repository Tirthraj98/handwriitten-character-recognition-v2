{
 "cells": [
  {
   "cell_type": "code",
   "execution_count": 2,
   "id": "0babe173",
   "metadata": {
    "executionInfo": {
     "elapsed": 4,
     "status": "ok",
     "timestamp": 1706904875024,
     "user": {
      "displayName": "Snehal Shukla",
      "userId": "13308935849291023492"
     },
     "user_tz": -330
    },
    "id": "0babe173"
   },
   "outputs": [],
   "source": [
    "import numpy as np\n",
    "import matplotlib.pyplot as plt\n"
   ]
  },
  {
   "cell_type": "code",
   "execution_count": 3,
   "id": "QUuvo9iIYTvt",
   "metadata": {
    "executionInfo": {
     "elapsed": 4,
     "status": "ok",
     "timestamp": 1706904875025,
     "user": {
      "displayName": "Snehal Shukla",
      "userId": "13308935849291023492"
     },
     "user_tz": -330
    },
    "id": "QUuvo9iIYTvt"
   },
   "outputs": [],
   "source": [
    "file_name = \"/content/drive/MyDrive/Phd_project/models/analysis_files/Consonant_deep_model_gray_v2\""
   ]
  },
  {
   "cell_type": "code",
   "execution_count": 4,
   "id": "7ddd786c",
   "metadata": {
    "executionInfo": {
     "elapsed": 21431,
     "status": "ok",
     "timestamp": 1706904897196,
     "user": {
      "displayName": "Snehal Shukla",
      "userId": "13308935849291023492"
     },
     "user_tz": -330
    },
    "id": "7ddd786c"
   },
   "outputs": [],
   "source": [
    "data = np.load(\"/content/drive/MyDrive/Phd_project/dataset_v2/data50x50_con_aug_gray.npy\")\n",
    "labels = np.load(\"/content/drive/MyDrive/Phd_project/dataset_v2/labels50x50_con_aug_gray.npy\")"
   ]
  },
  {
   "cell_type": "code",
   "execution_count": 5,
   "id": "3525a695",
   "metadata": {
    "colab": {
     "base_uri": "https://localhost:8080/"
    },
    "executionInfo": {
     "elapsed": 33,
     "status": "ok",
     "timestamp": 1706904897196,
     "user": {
      "displayName": "Snehal Shukla",
      "userId": "13308935849291023492"
     },
     "user_tz": -330
    },
    "id": "3525a695",
    "outputId": "aa13b29c-b4cd-473e-ffa5-8dfcd6cefaee"
   },
   "outputs": [
    {
     "data": {
      "text/plain": [
       "array([[[255, 255, 255, ..., 255, 255, 255],\n",
       "        [255, 255, 255, ..., 255, 255, 255],\n",
       "        [255, 255, 255, ..., 255, 255, 255],\n",
       "        ...,\n",
       "        [ 84,  53,  95, ..., 255, 255, 255],\n",
       "        [ 89,  79,  79, ..., 255, 255, 255],\n",
       "        [ 67,  65,  74, ..., 255, 255, 255]],\n",
       "\n",
       "       [[255, 255, 255, ..., 255, 255, 255],\n",
       "        [255, 255, 255, ..., 255, 255, 255],\n",
       "        [255, 255, 255, ..., 255, 255, 255],\n",
       "        ...,\n",
       "        [255, 255, 255, ..., 255, 255, 255],\n",
       "        [255, 255, 255, ..., 255, 255, 255],\n",
       "        [255, 255, 255, ..., 255, 255, 255]],\n",
       "\n",
       "       [[255, 255, 255, ..., 255, 255, 255],\n",
       "        [255, 255, 255, ..., 255, 255, 255],\n",
       "        [255, 255, 255, ..., 255, 255, 255],\n",
       "        ...,\n",
       "        [255, 255, 255, ..., 255, 255, 255],\n",
       "        [255, 255, 255, ..., 255, 255, 255],\n",
       "        [255, 255, 255, ..., 255, 255, 255]],\n",
       "\n",
       "       ...,\n",
       "\n",
       "       [[245, 245, 244, ..., 241, 241, 241],\n",
       "        [245, 245, 244, ..., 241, 240, 240],\n",
       "        [245, 244, 243, ..., 240, 240, 240],\n",
       "        ...,\n",
       "        [241, 242, 243, ..., 249, 248, 248],\n",
       "        [244, 244, 244, ..., 248, 248, 249],\n",
       "        [246, 245, 245, ..., 247, 248, 249]],\n",
       "\n",
       "       [[248, 248, 249, ..., 248, 248, 248],\n",
       "        [248, 248, 249, ..., 248, 248, 248],\n",
       "        [248, 248, 249, ..., 248, 248, 248],\n",
       "        ...,\n",
       "        [248, 248, 248, ..., 250, 250, 250],\n",
       "        [248, 248, 248, ..., 250, 250, 250],\n",
       "        [248, 248, 248, ..., 250, 250, 250]],\n",
       "\n",
       "       [[254, 254, 254, ...,  76,  75,  77],\n",
       "        [254, 254, 254, ...,  76,  75,  77],\n",
       "        [255, 255, 255, ...,  77,  77,  78],\n",
       "        ...,\n",
       "        [  8,  11,  16, ..., 118, 118, 118],\n",
       "        [  7,   8,   9, ..., 118, 118, 118],\n",
       "        [  8,   9,   8, ..., 117, 117, 117]]], dtype=uint8)"
      ]
     },
     "execution_count": 5,
     "metadata": {},
     "output_type": "execute_result"
    }
   ],
   "source": [
    "data\n"
   ]
  },
  {
   "cell_type": "code",
   "execution_count": 6,
   "id": "58497fde",
   "metadata": {
    "colab": {
     "base_uri": "https://localhost:8080/"
    },
    "executionInfo": {
     "elapsed": 31,
     "status": "ok",
     "timestamp": 1706904897197,
     "user": {
      "displayName": "Snehal Shukla",
      "userId": "13308935849291023492"
     },
     "user_tz": -330
    },
    "id": "58497fde",
    "outputId": "215df904-eb25-4fc6-855f-5519294e82b7"
   },
   "outputs": [
    {
     "data": {
      "text/plain": [
       "array(['GN', 'GN', 'GN', ..., 'AD', 'AD', 'AD'], dtype='<U3')"
      ]
     },
     "execution_count": 6,
     "metadata": {},
     "output_type": "execute_result"
    }
   ],
   "source": [
    "labels"
   ]
  },
  {
   "cell_type": "code",
   "execution_count": 7,
   "id": "35ab7831",
   "metadata": {
    "executionInfo": {
     "elapsed": 28,
     "status": "ok",
     "timestamp": 1706904897197,
     "user": {
      "displayName": "Snehal Shukla",
      "userId": "13308935849291023492"
     },
     "user_tz": -330
    },
    "id": "35ab7831"
   },
   "outputs": [],
   "source": [
    "def show_img():\n",
    "    cnt = np.random.randint(0,len(labels))\n",
    "    plt.imshow(data[cnt])\n",
    "    plt.title(labels[cnt])\n",
    "    plt.axis(\"off\")\n"
   ]
  },
  {
   "cell_type": "code",
   "execution_count": 8,
   "id": "a226e148",
   "metadata": {
    "colab": {
     "base_uri": "https://localhost:8080/",
     "height": 428
    },
    "executionInfo": {
     "elapsed": 27,
     "status": "ok",
     "timestamp": 1706904897197,
     "user": {
      "displayName": "Snehal Shukla",
      "userId": "13308935849291023492"
     },
     "user_tz": -330
    },
    "id": "a226e148",
    "outputId": "a9671d01-33e3-4f32-f12e-0b1d26aee984",
    "scrolled": true
   },
   "outputs": [
    {
     "data": {
      "image/png": "[encoded data removed]",
      "text/plain": [
       "<Figure size 640x480 with 1 Axes>"
      ]
     },
     "metadata": {},
     "output_type": "display_data"
    }
   ],
   "source": [
    "show_img()"
   ]
  },
  {
   "cell_type": "code",
   "execution_count": 9,
   "id": "f050d9b3",
   "metadata": {
    "colab": {
     "base_uri": "https://localhost:8080/"
    },
    "executionInfo": {
     "elapsed": 27,
     "status": "ok",
     "timestamp": 1706904897198,
     "user": {
      "displayName": "Snehal Shukla",
      "userId": "13308935849291023492"
     },
     "user_tz": -330
    },
    "id": "f050d9b3",
    "outputId": "aee42a26-09c6-49af-b5cc-e017e138e0c0"
   },
   "outputs": [
    {
     "data": {
      "text/plain": [
       "(985669, 50, 50)"
      ]
     },
     "execution_count": 9,
     "metadata": {},
     "output_type": "execute_result"
    }
   ],
   "source": [
    "data.shape"
   ]
  },
  {
   "cell_type": "code",
   "execution_count": 10,
   "id": "e627ea33",
   "metadata": {
    "colab": {
     "base_uri": "https://localhost:8080/"
    },
    "executionInfo": {
     "elapsed": 23,
     "status": "ok",
     "timestamp": 1706904897198,
     "user": {
      "displayName": "Snehal Shukla",
      "userId": "13308935849291023492"
     },
     "user_tz": -330
    },
    "id": "e627ea33",
    "outputId": "61ba2b1c-9d6e-4386-adcf-b35085c60124"
   },
   "outputs": [
    {
     "data": {
      "text/plain": [
       "(985669,)"
      ]
     },
     "execution_count": 10,
     "metadata": {},
     "output_type": "execute_result"
    }
   ],
   "source": [
    "labels.shape"
   ]
  },
  {
   "cell_type": "code",
   "execution_count": 11,
   "id": "6af9a4e5",
   "metadata": {
    "colab": {
     "base_uri": "https://localhost:8080/"
    },
    "executionInfo": {
     "elapsed": 20,
     "status": "ok",
     "timestamp": 1706904897198,
     "user": {
      "displayName": "Snehal Shukla",
      "userId": "13308935849291023492"
     },
     "user_tz": -330
    },
    "id": "6af9a4e5",
    "outputId": "704e5769-53b8-4dc5-85bd-f01ac6532c4d"
   },
   "outputs": [
    {
     "data": {
      "text/plain": [
       "(50, 50)"
      ]
     },
     "execution_count": 11,
     "metadata": {},
     "output_type": "execute_result"
    }
   ],
   "source": [
    "\n",
    "data[0].shape"
   ]
  },
  {
   "cell_type": "code",
   "execution_count": 12,
   "id": "6d8c672c",
   "metadata": {
    "colab": {
     "base_uri": "https://localhost:8080/"
    },
    "executionInfo": {
     "elapsed": 18,
     "status": "ok",
     "timestamp": 1706904897198,
     "user": {
      "displayName": "Snehal Shukla",
      "userId": "13308935849291023492"
     },
     "user_tz": -330
    },
    "id": "6d8c672c",
    "outputId": "45d603e9-bd6b-46b0-8009-862751f339a7"
   },
   "outputs": [
    {
     "data": {
      "text/plain": [
       "2464172500"
      ]
     },
     "execution_count": 12,
     "metadata": {},
     "output_type": "execute_result"
    }
   ],
   "source": [
    "\n",
    "data.size"
   ]
  },
  {
   "cell_type": "code",
   "execution_count": 13,
   "id": "bcfc846c",
   "metadata": {
    "colab": {
     "base_uri": "https://localhost:8080/"
    },
    "executionInfo": {
     "elapsed": 16,
     "status": "ok",
     "timestamp": 1706904897198,
     "user": {
      "displayName": "Snehal Shukla",
      "userId": "13308935849291023492"
     },
     "user_tz": -330
    },
    "id": "bcfc846c",
    "outputId": "5ca2ab45-7604-4249-c0ac-585cd52fe84b"
   },
   "outputs": [
    {
     "data": {
      "text/plain": [
       "2500"
      ]
     },
     "execution_count": 13,
     "metadata": {},
     "output_type": "execute_result"
    }
   ],
   "source": [
    "data[0].size"
   ]
  },
  {
   "cell_type": "code",
   "execution_count": 14,
   "id": "b3ad23c0",
   "metadata": {
    "colab": {
     "base_uri": "https://localhost:8080/"
    },
    "executionInfo": {
     "elapsed": 14,
     "status": "ok",
     "timestamp": 1706904897199,
     "user": {
      "displayName": "Snehal Shukla",
      "userId": "13308935849291023492"
     },
     "user_tz": -330
    },
    "id": "b3ad23c0",
    "outputId": "110dfc17-ad43-4553-a84e-b5267f69ba14"
   },
   "outputs": [
    {
     "data": {
      "text/plain": [
       "3"
      ]
     },
     "execution_count": 14,
     "metadata": {},
     "output_type": "execute_result"
    }
   ],
   "source": [
    "\n",
    "data.ndim"
   ]
  },
  {
   "cell_type": "code",
   "execution_count": 15,
   "id": "90cd2b3d",
   "metadata": {
    "colab": {
     "base_uri": "https://localhost:8080/"
    },
    "executionInfo": {
     "elapsed": 12,
     "status": "ok",
     "timestamp": 1706904897199,
     "user": {
      "displayName": "Snehal Shukla",
      "userId": "13308935849291023492"
     },
     "user_tz": -330
    },
    "id": "90cd2b3d",
    "outputId": "9b8a20d3-6d5d-47e7-9181-16598af957ad"
   },
   "outputs": [
    {
     "data": {
      "text/plain": [
       "2"
      ]
     },
     "execution_count": 15,
     "metadata": {},
     "output_type": "execute_result"
    }
   ],
   "source": [
    "data[0].ndim"
   ]
  },
  {
   "cell_type": "code",
   "execution_count": 16,
   "id": "79ff98a7",
   "metadata": {
    "colab": {
     "base_uri": "https://localhost:8080/"
    },
    "executionInfo": {
     "elapsed": 947,
     "status": "ok",
     "timestamp": 1706904898136,
     "user": {
      "displayName": "Snehal Shukla",
      "userId": "13308935849291023492"
     },
     "user_tz": -330
    },
    "id": "79ff98a7",
    "outputId": "aadbfb1a-93a8-43eb-f891-1d37e7aac2b5"
   },
   "outputs": [
    {
     "data": {
      "text/plain": [
       "array(['AD', 'ADH', 'AL', 'AN', 'AT', 'ATH', 'B', 'BH', 'CH', 'CHH', 'D',\n",
       "       'DH', 'F', 'G', 'GH', 'GN', 'H', 'J', 'K', 'KH', 'KS', 'L', 'M',\n",
       "       'N', 'P', 'R', 'S', 'SH', 'SHH', 'T', 'TH', 'V', 'Y', 'Z'],\n",
       "      dtype='<U3')"
      ]
     },
     "execution_count": 16,
     "metadata": {},
     "output_type": "execute_result"
    }
   ],
   "source": [
    "\n",
    "classes = np.unique(labels)\n",
    "classes"
   ]
  },
  {
   "cell_type": "code",
   "execution_count": 17,
   "id": "a2403522",
   "metadata": {
    "colab": {
     "base_uri": "https://localhost:8080/"
    },
    "executionInfo": {
     "elapsed": 19,
     "status": "ok",
     "timestamp": 1706904898136,
     "user": {
      "displayName": "Snehal Shukla",
      "userId": "13308935849291023492"
     },
     "user_tz": -330
    },
    "id": "a2403522",
    "outputId": "ba05ab50-bebc-4d45-9dab-d91f62ff637d"
   },
   "outputs": [
    {
     "data": {
      "text/plain": [
       "34"
      ]
     },
     "execution_count": 17,
     "metadata": {},
     "output_type": "execute_result"
    }
   ],
   "source": [
    "num_classes = len(classes)\n",
    "num_classes"
   ]
  },
  {
   "cell_type": "code",
   "execution_count": 18,
   "id": "71816eeb",
   "metadata": {
    "executionInfo": {
     "elapsed": 13,
     "status": "ok",
     "timestamp": 1706904898136,
     "user": {
      "displayName": "Snehal Shukla",
      "userId": "13308935849291023492"
     },
     "user_tz": -330
    },
    "id": "71816eeb"
   },
   "outputs": [],
   "source": [
    "value_counts = {}\n",
    "for char in classes:\n",
    "    cnt = np.count_nonzero(labels == char)\n",
    "    value_counts[char] = cnt"
   ]
  },
  {
   "cell_type": "code",
   "execution_count": 19,
   "id": "0988848e",
   "metadata": {
    "colab": {
     "base_uri": "https://localhost:8080/"
    },
    "executionInfo": {
     "elapsed": 12,
     "status": "ok",
     "timestamp": 1706904898136,
     "user": {
      "displayName": "Snehal Shukla",
      "userId": "13308935849291023492"
     },
     "user_tz": -330
    },
    "id": "0988848e",
    "outputId": "523c6101-4241-4b0f-8c0b-36db9003064e"
   },
   "outputs": [
    {
     "data": {
      "text/plain": [
       "{'AD': 28802,\n",
       " 'ADH': 28668,\n",
       " 'AL': 29873,\n",
       " 'AN': 28250,\n",
       " 'AT': 27489,\n",
       " 'ATH': 29132,\n",
       " 'B': 29035,\n",
       " 'BH': 27838,\n",
       " 'CH': 28349,\n",
       " 'CHH': 29442,\n",
       " 'D': 28307,\n",
       " 'DH': 31379,\n",
       " 'F': 28718,\n",
       " 'G': 28607,\n",
       " 'GH': 27512,\n",
       " 'GN': 29564,\n",
       " 'H': 31246,\n",
       " 'J': 28780,\n",
       " 'K': 30761,\n",
       " 'KH': 28895,\n",
       " 'KS': 29753,\n",
       " 'L': 29311,\n",
       " 'M': 28330,\n",
       " 'N': 27954,\n",
       " 'P': 28906,\n",
       " 'R': 26200,\n",
       " 'S': 30370,\n",
       " 'SH': 31921,\n",
       " 'SHH': 28598,\n",
       " 'T': 28837,\n",
       " 'TH': 28113,\n",
       " 'V': 30104,\n",
       " 'Y': 28481,\n",
       " 'Z': 28144}"
      ]
     },
     "execution_count": 19,
     "metadata": {},
     "output_type": "execute_result"
    }
   ],
   "source": [
    "value_counts"
   ]
  },
  {
   "cell_type": "code",
   "execution_count": 20,
   "id": "89623e53",
   "metadata": {
    "colab": {
     "base_uri": "https://localhost:8080/"
    },
    "executionInfo": {
     "elapsed": 9,
     "status": "ok",
     "timestamp": 1706904898136,
     "user": {
      "displayName": "Snehal Shukla",
      "userId": "13308935849291023492"
     },
     "user_tz": -330
    },
    "id": "89623e53",
    "outputId": "fdccbeb9-52c3-4cd0-e926-2c19ed37bf3d"
   },
   "outputs": [
    {
     "data": {
      "text/plain": [
       "26200"
      ]
     },
     "execution_count": 20,
     "metadata": {},
     "output_type": "execute_result"
    }
   ],
   "source": [
    "\n",
    "\n",
    "min(value_counts.values())"
   ]
  },
  {
   "cell_type": "code",
   "execution_count": 21,
   "id": "b80ffdaf",
   "metadata": {
    "executionInfo": {
     "elapsed": 7,
     "status": "ok",
     "timestamp": 1706904898136,
     "user": {
      "displayName": "Snehal Shukla",
      "userId": "13308935849291023492"
     },
     "user_tz": -330
    },
    "id": "b80ffdaf"
   },
   "outputs": [],
   "source": [
    "sorted_values = list(value_counts.values())"
   ]
  },
  {
   "cell_type": "code",
   "execution_count": 22,
   "id": "3c7c553f",
   "metadata": {
    "executionInfo": {
     "elapsed": 7,
     "status": "ok",
     "timestamp": 1706904898136,
     "user": {
      "displayName": "Snehal Shukla",
      "userId": "13308935849291023492"
     },
     "user_tz": -330
    },
    "id": "3c7c553f"
   },
   "outputs": [],
   "source": [
    "sorted_values.sort()"
   ]
  },
  {
   "cell_type": "code",
   "execution_count": 23,
   "id": "6cdcbd66",
   "metadata": {
    "colab": {
     "base_uri": "https://localhost:8080/"
    },
    "executionInfo": {
     "elapsed": 8,
     "status": "ok",
     "timestamp": 1706904898137,
     "user": {
      "displayName": "Snehal Shukla",
      "userId": "13308935849291023492"
     },
     "user_tz": -330
    },
    "id": "6cdcbd66",
    "outputId": "54e73ddc-3228-48de-9021-f539c951bb28"
   },
   "outputs": [
    {
     "data": {
      "text/plain": [
       "[26200, 27489, 27512, 27838, 27954]"
      ]
     },
     "execution_count": 23,
     "metadata": {},
     "output_type": "execute_result"
    }
   ],
   "source": [
    "sorted_values[:5]"
   ]
  },
  {
   "cell_type": "code",
   "execution_count": 24,
   "id": "202d9398",
   "metadata": {
    "executionInfo": {
     "elapsed": 1668,
     "status": "ok",
     "timestamp": 1706904899800,
     "user": {
      "displayName": "Snehal Shukla",
      "userId": "13308935849291023492"
     },
     "user_tz": -330
    },
    "id": "202d9398"
   },
   "outputs": [],
   "source": [
    "import numpy as np\n",
    "from sklearn.model_selection import train_test_split\n",
    "from sklearn.metrics import classification_report, confusion_matrix\n",
    "import matplotlib.pyplot as plt\n",
    "import seaborn as sns\n",
    "from sklearn.preprocessing import LabelEncoder\n",
    "import time\n",
    "import joblib"
   ]
  },
  {
   "cell_type": "code",
   "execution_count": 25,
   "id": "55d8a9a5",
   "metadata": {
    "executionInfo": {
     "elapsed": 2197,
     "status": "ok",
     "timestamp": 1706904901994,
     "user": {
      "displayName": "Snehal Shukla",
      "userId": "13308935849291023492"
     },
     "user_tz": -330
    },
    "id": "55d8a9a5"
   },
   "outputs": [],
   "source": [
    "from keras.preprocessing.image import ImageDataGenerator\n",
    "from keras.applications import ResNet50\n",
    "from keras.models import Sequential\n",
    "from keras.utils import to_categorical\n",
    "from keras.callbacks import EarlyStopping\n",
    "from keras.layers import Dense, Conv2D, Dropout,MaxPooling2D,Flatten\n",
    "from keras.optimizers import Adam"
   ]
  },
  {
   "cell_type": "code",
   "execution_count": 26,
   "id": "e93e25b9",
   "metadata": {
    "executionInfo": {
     "elapsed": 7,
     "status": "ok",
     "timestamp": 1706904901994,
     "user": {
      "displayName": "Snehal Shukla",
      "userId": "13308935849291023492"
     },
     "user_tz": -330
    },
    "id": "e93e25b9"
   },
   "outputs": [],
   "source": [
    "# image_size = (50, 50)\n",
    "# batch_size = 10"
   ]
  },
  {
   "cell_type": "code",
   "execution_count": 27,
   "id": "287218e0",
   "metadata": {
    "executionInfo": {
     "elapsed": 7,
     "status": "ok",
     "timestamp": 1706904901994,
     "user": {
      "displayName": "Snehal Shukla",
      "userId": "13308935849291023492"
     },
     "user_tz": -330
    },
    "id": "287218e0"
   },
   "outputs": [],
   "source": [
    "# Load data and labels\n",
    "# data = np.load(\"\")\n",
    "# labels = np.load(\"\")\n",
    "\n",
    "# data = data / 255"
   ]
  },
  {
   "cell_type": "code",
   "execution_count": 28,
   "id": "6a69376d",
   "metadata": {
    "colab": {
     "base_uri": "https://localhost:8080/"
    },
    "executionInfo": {
     "elapsed": 6,
     "status": "ok",
     "timestamp": 1706904901994,
     "user": {
      "displayName": "Snehal Shukla",
      "userId": "13308935849291023492"
     },
     "user_tz": -330
    },
    "id": "6a69376d",
    "outputId": "57277ccf-f25c-488c-cd9c-f7e9fce257a1"
   },
   "outputs": [
    {
     "name": "stdout",
     "output_type": "stream",
     "text": [
      "[ 0  1  2  3  4  5  6  7  8  9 10 11 12 13 14 15 16 17 18 19 20 21 22 23\n",
      " 24 25 26 27 28 29 30 31 32 33]\n"
     ]
    }
   ],
   "source": [
    "# Convert labels to numerical format using LabelEncoder\n",
    "label_encoder = LabelEncoder()\n",
    "numerical_labels = label_encoder.fit_transform(labels)\n",
    "\n",
    "print((np.unique(numerical_labels)))"
   ]
  },
  {
   "cell_type": "code",
   "execution_count": 29,
   "id": "acebda20",
   "metadata": {
    "colab": {
     "base_uri": "https://localhost:8080/"
    },
    "executionInfo": {
     "elapsed": 1669,
     "status": "ok",
     "timestamp": 1706904913344,
     "user": {
      "displayName": "Snehal Shukla",
      "userId": "13308935849291023492"
     },
     "user_tz": -330
    },
    "id": "acebda20",
    "outputId": "7a811115-d9de-4ca6-95fd-9addd2dec75b"
   },
   "outputs": [
    {
     "name": "stdout",
     "output_type": "stream",
     "text": [
      "(689968, 50, 50)\n",
      "(689968,)\n",
      "(147851, 50, 50)\n",
      "(147851,)\n",
      "(147850, 50, 50)\n",
      "(147850,)\n"
     ]
    }
   ],
   "source": [
    "\n",
    "\n",
    "# Split the data into training, validation, and test sets\n",
    "X_train, X_temp, y_train, y_temp = train_test_split(\n",
    "    data, numerical_labels, test_size=0.3, stratify=numerical_labels\n",
    ")\n",
    "X_test, X_val, y_test, y_val = train_test_split(\n",
    "    X_temp, y_temp, test_size=0.5, stratify=y_temp\n",
    ")\n",
    "\n",
    "print(X_train.shape)\n",
    "print(y_train.shape)\n",
    "print(X_val.shape)\n",
    "print(y_val.shape)\n",
    "print(X_test.shape)\n",
    "print(y_test.shape)"
   ]
  },
  {
   "cell_type": "code",
   "execution_count": 30,
   "id": "7961fa4e",
   "metadata": {
    "executionInfo": {
     "elapsed": 7013,
     "status": "ok",
     "timestamp": 1706904930158,
     "user": {
      "displayName": "Snehal Shukla",
      "userId": "13308935849291023492"
     },
     "user_tz": -330
    },
    "id": "7961fa4e"
   },
   "outputs": [],
   "source": [
    "# Rescale images to the range [0, 1]\n",
    "X_train = X_train / 255.0\n",
    "X_val = X_val / 255.0\n",
    "X_test = X_test / 255.0\n",
    "\n",
    "# Replicate the grayscale channel to create pseudo-RGB images\n",
    "# X_train = np.repeat(X_train[..., np.newaxis], 3, -1)\n",
    "# X_val = np.repeat(X_val[..., np.newaxis], 3, -1)\n",
    "# X_test = np.repeat(X_test[..., np.newaxis], 3, -1)\n"
   ]
  },
  {
   "cell_type": "code",
   "execution_count": 31,
   "id": "7fe4b94a",
   "metadata": {
    "colab": {
     "base_uri": "https://localhost:8080/"
    },
    "executionInfo": {
     "elapsed": 859,
     "status": "ok",
     "timestamp": 1706904935640,
     "user": {
      "displayName": "Snehal Shukla",
      "userId": "13308935849291023492"
     },
     "user_tz": -330
    },
    "id": "7fe4b94a",
    "outputId": "fb562b63-ef43-418c-bf11-5020a2887743"
   },
   "outputs": [
    {
     "name": "stdout",
     "output_type": "stream",
     "text": [
      "(689968, 50, 50)\n",
      "(689968, 34)\n",
      "(147851, 50, 50)\n",
      "(147851, 34)\n",
      "(147850, 50, 50)\n",
      "(147850, 34)\n"
     ]
    }
   ],
   "source": [
    "# Convert labels to one-hot encoding\n",
    "y_train = to_categorical(y_train, num_classes=len(np.unique(numerical_labels)))\n",
    "y_val = to_categorical(y_val, num_classes=len(np.unique(numerical_labels)))\n",
    "y_test = to_categorical(y_test, num_classes=len(np.unique(numerical_labels)))\n",
    "\n",
    "print(X_train.shape)\n",
    "print(y_train.shape)\n",
    "print(X_val.shape)\n",
    "print(y_val.shape)\n",
    "print(X_test.shape)\n",
    "print(y_test.shape)"
   ]
  },
  {
   "cell_type": "code",
   "execution_count": 32,
   "id": "489dfa22",
   "metadata": {
    "executionInfo": {
     "elapsed": 3,
     "status": "ok",
     "timestamp": 1706904936664,
     "user": {
      "displayName": "Snehal Shukla",
      "userId": "13308935849291023492"
     },
     "user_tz": -330
    },
    "id": "489dfa22"
   },
   "outputs": [],
   "source": [
    "\n",
    "# On-the-fly data augmentation\n",
    "# X_traingen = ImageDataGenerator(\n",
    "#     rotation_range=12,\n",
    "#     width_shift_range=0.1,\n",
    "#     height_shift_range=0.1,\n",
    "#     shear_range=0.4,\n",
    "#     zoom_range=0.1,\n",
    "#     brightness_range=(0.5,1.2),\n",
    "#     fill_mode='nearest'\n",
    "# )"
   ]
  },
  {
   "cell_type": "code",
   "execution_count": 33,
   "id": "f53abd5e",
   "metadata": {
    "executionInfo": {
     "elapsed": 3,
     "status": "ok",
     "timestamp": 1706904936664,
     "user": {
      "displayName": "Snehal Shukla",
      "userId": "13308935849291023492"
     },
     "user_tz": -330
    },
    "id": "f53abd5e"
   },
   "outputs": [],
   "source": [
    "# train_generator = X_traingen.flow(X_train, y_train, batch_size=batch_size)\n"
   ]
  },
  {
   "cell_type": "code",
   "execution_count": 34,
   "id": "5542048c",
   "metadata": {
    "executionInfo": {
     "elapsed": 6,
     "status": "ok",
     "timestamp": 1706904937690,
     "user": {
      "displayName": "Snehal Shukla",
      "userId": "13308935849291023492"
     },
     "user_tz": -330
    },
    "id": "5542048c"
   },
   "outputs": [],
   "source": [
    "# Load pre-trained ResNet50 model\n",
    "# base_model = ResNet50(weights='imagenet', include_top=False, input_shape=(50, 50, 3))\n"
   ]
  },
  {
   "cell_type": "code",
   "execution_count": 35,
   "id": "807ac7ef",
   "metadata": {
    "executionInfo": {
     "elapsed": 5,
     "status": "ok",
     "timestamp": 1706904937690,
     "user": {
      "displayName": "Snehal Shukla",
      "userId": "13308935849291023492"
     },
     "user_tz": -330
    },
    "id": "807ac7ef"
   },
   "outputs": [],
   "source": [
    "# Freeze the pre-trained layers\n",
    "# for layer in base_model.layers:\n",
    "#     layer.trainable = False\n"
   ]
  },
  {
   "cell_type": "code",
   "execution_count": 36,
   "id": "ac5012e1",
   "metadata": {
    "executionInfo": {
     "elapsed": 4,
     "status": "ok",
     "timestamp": 1706904937690,
     "user": {
      "displayName": "Snehal Shukla",
      "userId": "13308935849291023492"
     },
     "user_tz": -330
    },
    "id": "ac5012e1"
   },
   "outputs": [],
   "source": [
    "# Build the complete model\n",
    "# model = Sequential([\n",
    "#     base_model,\n",
    "#     GlobalAveragePooling2D(),\n",
    "#     Dense(256, activation='relu'),\n",
    "#     Dropout(0.5),\n",
    "#     Dense(len(np.unique(numerical_labels)), activation='softmax')\n",
    "# ])"
   ]
  },
  {
   "cell_type": "code",
   "execution_count": 37,
   "id": "1oOV40wxDkpg",
   "metadata": {
    "executionInfo": {
     "elapsed": 1702,
     "status": "ok",
     "timestamp": 1706904940251,
     "user": {
      "displayName": "Snehal Shukla",
      "userId": "13308935849291023492"
     },
     "user_tz": -330
    },
    "id": "1oOV40wxDkpg"
   },
   "outputs": [],
   "source": [
    "# Define the CNN model with more convolutional and dense layers\n",
    "model = Sequential()\n",
    "model.add(Conv2D(32, (3, 3), activation='relu', input_shape=(50, 50, 1), padding='same'))\n",
    "model.add(MaxPooling2D((2, 2)))\n",
    "# Added a second convolutional layer with 64 filters\n",
    "model.add(Conv2D(64, (3, 3), activation='relu', padding='same'))\n",
    "model.add(MaxPooling2D((2, 2)))\n",
    "# Added a third convolutional layer with 128 filters\n",
    "model.add(Conv2D(128, (3, 3), activation='relu', padding='same'))\n",
    "model.add(MaxPooling2D((2, 2)))\n",
    "# Added a fourth convolutional layer with 256 filters\n",
    "model.add(Conv2D(256, (3, 3), activation='relu', padding='same'))\n",
    "model.add(MaxPooling2D((2, 2)))\n",
    "model.add(Flatten())\n",
    "model.add(Dense(512, activation='relu'))  # Increased the size of the first dense layer\n",
    "model.add(Dropout(0.4))  # Increased the dropout rate to 0.4\n",
    "# Added a second dense layer with 256 units\n",
    "model.add(Dense(256, activation='relu'))\n",
    "model.add(Dropout(0.3))  # Added dropout to the second dense layer\n",
    "model.add(Dense(len(np.unique(numerical_labels)), activation='softmax')) # Use number of unique labels\n"
   ]
  },
  {
   "cell_type": "code",
   "execution_count": 38,
   "id": "c23af1f7",
   "metadata": {
    "executionInfo": {
     "elapsed": 4,
     "status": "ok",
     "timestamp": 1706904944448,
     "user": {
      "displayName": "Snehal Shukla",
      "userId": "13308935849291023492"
     },
     "user_tz": -330
    },
    "id": "c23af1f7"
   },
   "outputs": [],
   "source": [
    "# Compile the model\n",
    "model.compile(optimizer=Adam(learning_rate=0.001), loss='categorical_crossentropy', metrics=['accuracy'])\n"
   ]
  },
  {
   "cell_type": "code",
   "execution_count": 40,
   "id": "93a3731b",
   "metadata": {
    "colab": {
     "base_uri": "https://localhost:8080/"
    },
    "executionInfo": {
     "elapsed": 843,
     "status": "ok",
     "timestamp": 1706904974779,
     "user": {
      "displayName": "Snehal Shukla",
      "userId": "13308935849291023492"
     },
     "user_tz": -330
    },
    "id": "93a3731b",
    "outputId": "ea90f2b2-69ae-46c8-98c8-0ee0eb4d9a69"
   },
   "outputs": [
    {
     "name": "stdout",
     "output_type": "stream",
     "text": [
      "Model: \"sequential\"\n",
      "_________________________________________________________________\n",
      " Layer (type)                Output Shape              Param #   \n",
      "=================================================================\n",
      " conv2d (Conv2D)             (None, 50, 50, 32)        320       \n",
      "                                                                 \n",
      " max_pooling2d (MaxPooling2  (None, 25, 25, 32)        0         \n",
      " D)                                                              \n",
      "                                                                 \n",
      " conv2d_1 (Conv2D)           (None, 25, 25, 64)        18496     \n",
      "                                                                 \n",
      " max_pooling2d_1 (MaxPoolin  (None, 12, 12, 64)        0         \n",
      " g2D)                                                            \n",
      "                                                                 \n",
      " conv2d_2 (Conv2D)           (None, 12, 12, 128)       73856     \n",
      "                                                                 \n",
      " max_pooling2d_2 (MaxPoolin  (None, 6, 6, 128)         0         \n",
      " g2D)                                                            \n",
      "                                                                 \n",
      " conv2d_3 (Conv2D)           (None, 6, 6, 256)         295168    \n",
      "                                                                 \n",
      " max_pooling2d_3 (MaxPoolin  (None, 3, 3, 256)         0         \n",
      " g2D)                                                            \n",
      "                                                                 \n",
      " flatten (Flatten)           (None, 2304)              0         \n",
      "                                                                 \n",
      " dense (Dense)               (None, 512)               1180160   \n",
      "                                                                 \n",
      " dropout (Dropout)           (None, 512)               0         \n",
      "                                                                 \n",
      " dense_1 (Dense)             (None, 256)               131328    \n",
      "                                                                 \n",
      " dropout_1 (Dropout)         (None, 256)               0         \n",
      "                                                                 \n",
      " dense_2 (Dense)             (None, 34)                8738      \n",
      "                                                                 \n",
      "=================================================================\n",
      "Total params: 1708066 (6.52 MB)\n",
      "Trainable params: 1708066 (6.52 MB)\n",
      "Non-trainable params: 0 (0.00 Byte)\n",
      "_________________________________________________________________\n"
     ]
    }
   ],
   "source": [
    "# Display the model summary\n",
    "summary = model.summary()\n"
   ]
  },
  {
   "cell_type": "code",
   "execution_count": 41,
   "id": "1683a992",
   "metadata": {
    "executionInfo": {
     "elapsed": 617,
     "status": "ok",
     "timestamp": 1706905059129,
     "user": {
      "displayName": "Snehal Shukla",
      "userId": "13308935849291023492"
     },
     "user_tz": -330
    },
    "id": "1683a992"
   },
   "outputs": [],
   "source": [
    "# Train the model with early stopping to avoid overfitting\n",
    "early_stopping = EarlyStopping(\n",
    "    monitor='val_loss', patience=3, restore_best_weights=True\n",
    ")"
   ]
  },
  {
   "cell_type": "code",
   "execution_count": 42,
   "id": "03a392b7",
   "metadata": {
    "colab": {
     "base_uri": "https://localhost:8080/"
    },
    "executionInfo": {
     "elapsed": 2017581,
     "status": "ok",
     "timestamp": 1706907081413,
     "user": {
      "displayName": "Snehal Shukla",
      "userId": "13308935849291023492"
     },
     "user_tz": -330
    },
    "id": "03a392b7",
    "outputId": "b8a8c862-8c52-4d74-bdb0-ab242f4821cc"
   },
   "outputs": [
    {
     "name": "stdout",
     "output_type": "stream",
     "text": [
      "Epoch 1/40\n",
      "21562/21562 [==============================] - 122s 5ms/step - loss: 1.2406 - accuracy: 0.6227 - val_loss: 0.5829 - val_accuracy: 0.8145\n",
      "Epoch 2/40\n",
      "21562/21562 [==============================] - 116s 5ms/step - loss: 0.6418 - accuracy: 0.8018 - val_loss: 0.5331 - val_accuracy: 0.8324\n",
      "Epoch 3/40\n",
      "21562/21562 [==============================] - 119s 5ms/step - loss: 0.5783 - accuracy: 0.8226 - val_loss: 0.4978 - val_accuracy: 0.8435\n",
      "Epoch 4/40\n",
      "21562/21562 [==============================] - 118s 5ms/step - loss: 0.5478 - accuracy: 0.8326 - val_loss: 0.4583 - val_accuracy: 0.8559\n",
      "Epoch 5/40\n",
      "21562/21562 [==============================] - 118s 5ms/step - loss: 0.5277 - accuracy: 0.8396 - val_loss: 0.4570 - val_accuracy: 0.8570\n",
      "Epoch 6/40\n",
      "21562/21562 [==============================] - 119s 5ms/step - loss: 0.5143 - accuracy: 0.8435 - val_loss: 0.4571 - val_accuracy: 0.8574\n",
      "Epoch 7/40\n",
      "21562/21562 [==============================] - 118s 5ms/step - loss: 0.5060 - accuracy: 0.8465 - val_loss: 0.4447 - val_accuracy: 0.8633\n",
      "Epoch 8/40\n",
      "21562/21562 [==============================] - 118s 5ms/step - loss: 0.4973 - accuracy: 0.8504 - val_loss: 0.4546 - val_accuracy: 0.8604\n",
      "Epoch 9/40\n",
      "21562/21562 [==============================] - 118s 5ms/step - loss: 0.4908 - accuracy: 0.8523 - val_loss: 0.4441 - val_accuracy: 0.8648\n",
      "Epoch 10/40\n",
      "21562/21562 [==============================] - 118s 5ms/step - loss: 0.4863 - accuracy: 0.8545 - val_loss: 0.4446 - val_accuracy: 0.8658\n",
      "Epoch 11/40\n",
      "21562/21562 [==============================] - 118s 5ms/step - loss: 0.4823 - accuracy: 0.8555 - val_loss: 0.4213 - val_accuracy: 0.8713\n",
      "Epoch 12/40\n",
      "21562/21562 [==============================] - 117s 5ms/step - loss: 0.4793 - accuracy: 0.8566 - val_loss: 0.4562 - val_accuracy: 0.8633\n",
      "Epoch 13/40\n",
      "21562/21562 [==============================] - 117s 5ms/step - loss: 0.4787 - accuracy: 0.8574 - val_loss: 0.4156 - val_accuracy: 0.8727\n",
      "Epoch 14/40\n",
      "21562/21562 [==============================] - 117s 5ms/step - loss: 0.4744 - accuracy: 0.8588 - val_loss: 0.4109 - val_accuracy: 0.8735\n",
      "Epoch 15/40\n",
      "21562/21562 [==============================] - 117s 5ms/step - loss: 0.4741 - accuracy: 0.8592 - val_loss: 0.4131 - val_accuracy: 0.8734\n",
      "Epoch 16/40\n",
      "21562/21562 [==============================] - 117s 5ms/step - loss: 0.4728 - accuracy: 0.8604 - val_loss: 0.4307 - val_accuracy: 0.8685\n",
      "Epoch 17/40\n",
      "21562/21562 [==============================] - 117s 5ms/step - loss: 0.4753 - accuracy: 0.8597 - val_loss: 0.4465 - val_accuracy: 0.8662\n",
      "2018.118322134018\n"
     ]
    }
   ],
   "source": [
    "start_time = time.time()\n",
    "history = model.fit(\n",
    "    X_train,y_train,\n",
    "    # train_generator,\n",
    "    # steps_per_epoch=len(X_train) // batch_size,\n",
    "    epochs=40,\n",
    "    validation_data=(X_val, y_val),\n",
    "    callbacks=[early_stopping]\n",
    ")\n",
    "end_time = time.time()\n",
    "training_time = end_time - start_time\n",
    "print(training_time)"
   ]
  },
  {
   "cell_type": "code",
   "execution_count": 43,
   "id": "a940a42f",
   "metadata": {
    "executionInfo": {
     "elapsed": 683,
     "status": "ok",
     "timestamp": 1706907095160,
     "user": {
      "displayName": "Snehal Shukla",
      "userId": "13308935849291023492"
     },
     "user_tz": -330
    },
    "id": "a940a42f"
   },
   "outputs": [],
   "source": [
    "# Save training history to a text file\n",
    "import os\n",
    "os.chdir(\"/content/drive/MyDrive/Phd_project/models/analysis_files\")\n",
    "\n",
    "# with open(f'{file_name}.txt', 'w') as file:\n",
    "#     file.write(f\"{file_name}\\n\\n\")\n",
    "#     file.write(f\"Training time : {training_time}\\n\")\n",
    "#     file.write(str(history.history))\n",
    "with open(f'Consonant_deep_model_gray_v2.txt', 'w') as file:\n",
    "    file.write(f\"{file_name}\\n\\n\")\n",
    "    file.write(f\"Training time : {training_time}\\n\")\n",
    "    file.write(f\"Model Summary : {summary}\\n\")\n",
    "    file.write(str(history.history))"
   ]
  },
  {
   "cell_type": "code",
   "execution_count": 44,
   "id": "f48a9592",
   "metadata": {
    "colab": {
     "base_uri": "https://localhost:8080/",
     "height": 427
    },
    "executionInfo": {
     "elapsed": 8,
     "status": "ok",
     "timestamp": 1706907099432,
     "user": {
      "displayName": "Snehal Shukla",
      "userId": "13308935849291023492"
     },
     "user_tz": -330
    },
    "id": "f48a9592",
    "outputId": "bb8953d0-9c21-4e36-8301-9ab9d9e348bd"
   },
   "outputs": [
    {
     "data": {
      "text/plain": [
       "<matplotlib.legend.Legend at 0x7f490024dea0>"
      ]
     },
     "execution_count": 44,
     "metadata": {},
     "output_type": "execute_result"
    },
    {
     "data": {
      "image/png": "[encoded data removed]",
      "text/plain": [
       "<Figure size 1200x400 with 1 Axes>"
      ]
     },
     "metadata": {},
     "output_type": "display_data"
    }
   ],
   "source": [
    "# Plot accuracy and loss graphs\n",
    "plt.figure(figsize=(12, 4))\n",
    "\n",
    "plt.subplot(1, 2, 1)\n",
    "plt.plot(history.history['accuracy'], label='Training Accuracy')\n",
    "plt.plot(history.history['val_accuracy'], label='Validation Accuracy')\n",
    "plt.title('Training and Validation Accuracy')\n",
    "plt.xlabel('Epoch')\n",
    "plt.ylabel('Accuracy')\n",
    "plt.legend()"
   ]
  },
  {
   "cell_type": "code",
   "execution_count": 45,
   "id": "945757e0",
   "metadata": {
    "colab": {
     "base_uri": "https://localhost:8080/",
     "height": 487
    },
    "executionInfo": {
     "elapsed": 899,
     "status": "ok",
     "timestamp": 1706907104157,
     "user": {
      "displayName": "Snehal Shukla",
      "userId": "13308935849291023492"
     },
     "user_tz": -330
    },
    "id": "945757e0",
    "outputId": "0e8cb268-95f4-4f3a-afd9-1fe1b622fc53"
   },
   "outputs": [
    {
     "data": {
      "image/png": "[encoded data removed]",
      "text/plain": [
       "<Figure size 640x480 with 1 Axes>"
      ]
     },
     "metadata": {},
     "output_type": "display_data"
    }
   ],
   "source": [
    "plt.subplot(1, 2, 2)\n",
    "plt.plot(history.history['loss'], label='Training Loss')\n",
    "plt.plot(history.history['val_loss'], label='Validation Loss')\n",
    "plt.title('Training and Validation Loss')\n",
    "plt.xlabel('Epoch')\n",
    "plt.ylabel('Loss')\n",
    "plt.legend()\n",
    "\n",
    "plt.tight_layout()\n",
    "plt.show()\n"
   ]
  },
  {
   "cell_type": "code",
   "execution_count": 46,
   "id": "f6bf2ba5",
   "metadata": {
    "colab": {
     "base_uri": "https://localhost:8080/"
    },
    "executionInfo": {
     "elapsed": 13936,
     "status": "ok",
     "timestamp": 1706907123393,
     "user": {
      "displayName": "Snehal Shukla",
      "userId": "13308935849291023492"
     },
     "user_tz": -330
    },
    "id": "f6bf2ba5",
    "outputId": "45b23e73-b688-40b4-d500-6b55916e16a4"
   },
   "outputs": [
    {
     "name": "stdout",
     "output_type": "stream",
     "text": [
      "4621/4621 [==============================] - 12s 3ms/step - loss: 0.4101 - accuracy: 0.8742\n",
      "Test Accuracy: 87.42%\n"
     ]
    }
   ],
   "source": [
    "\n",
    "# Evaluate the model on the test set\n",
    "test_loss, test_accuracy = model.evaluate(X_test, y_test)\n",
    "print(f'Test Accuracy: {test_accuracy * 100:.2f}%')\n"
   ]
  },
  {
   "cell_type": "code",
   "execution_count": 47,
   "id": "c0c6049e",
   "metadata": {
    "colab": {
     "base_uri": "https://localhost:8080/"
    },
    "executionInfo": {
     "elapsed": 14956,
     "status": "ok",
     "timestamp": 1706907142846,
     "user": {
      "displayName": "Snehal Shukla",
      "userId": "13308935849291023492"
     },
     "user_tz": -330
    },
    "id": "c0c6049e",
    "outputId": "19b971c9-089c-494c-8ba9-625aea281d3f"
   },
   "outputs": [
    {
     "name": "stdout",
     "output_type": "stream",
     "text": [
      "4621/4621 [==============================] - 9s 2ms/step\n"
     ]
    }
   ],
   "source": [
    "# Generate predictions\n",
    "predictions = model.predict(X_test)\n"
   ]
  },
  {
   "cell_type": "code",
   "execution_count": 48,
   "id": "03ab6b25",
   "metadata": {
    "executionInfo": {
     "elapsed": 3,
     "status": "ok",
     "timestamp": 1706907144691,
     "user": {
      "displayName": "Snehal Shukla",
      "userId": "13308935849291023492"
     },
     "user_tz": -330
    },
    "id": "03ab6b25"
   },
   "outputs": [],
   "source": [
    "# Convert one-hot encoded labels back to numerical labels\n",
    "true_labels = np.argmax(y_test, axis=1)\n",
    "predicted_labels = np.argmax(predictions, axis=1)\n"
   ]
  },
  {
   "cell_type": "code",
   "execution_count": 49,
   "id": "301bbcf6",
   "metadata": {
    "executionInfo": {
     "elapsed": 8,
     "status": "ok",
     "timestamp": 1706907148649,
     "user": {
      "displayName": "Snehal Shukla",
      "userId": "13308935849291023492"
     },
     "user_tz": -330
    },
    "id": "301bbcf6"
   },
   "outputs": [],
   "source": [
    "# Convert numerical labels back to string labels\n",
    "true_labels_str = label_encoder.inverse_transform(true_labels)\n",
    "predicted_labels_str = label_encoder.inverse_transform(predicted_labels)\n"
   ]
  },
  {
   "cell_type": "code",
   "execution_count": 50,
   "id": "9e63681e",
   "metadata": {
    "executionInfo": {
     "elapsed": 2666,
     "status": "ok",
     "timestamp": 1706907154521,
     "user": {
      "displayName": "Snehal Shukla",
      "userId": "13308935849291023492"
     },
     "user_tz": -330
    },
    "id": "9e63681e"
   },
   "outputs": [],
   "source": [
    "# Generate and save classification report and confusion matrix\n",
    "classification_rep = classification_report(true_labels_str, predicted_labels_str)\n",
    "confusion_mat = confusion_matrix(true_labels_str, predicted_labels_str,labels=np.unique(true_labels_str))\n"
   ]
  },
  {
   "cell_type": "code",
   "execution_count": 51,
   "id": "a8278a06",
   "metadata": {
    "executionInfo": {
     "elapsed": 880,
     "status": "ok",
     "timestamp": 1706907158855,
     "user": {
      "displayName": "Snehal Shukla",
      "userId": "13308935849291023492"
     },
     "user_tz": -330
    },
    "id": "a8278a06"
   },
   "outputs": [],
   "source": [
    "import os\n",
    "os.chdir(\"/content/drive/MyDrive/Phd_project/models/analysis_files\")\n",
    "with open(f'Consonant_deep_model_gray_v2.txt', 'a') as file:\n",
    "    file.write(f\"Classification Report :\\n{classification_rep}\")\n",
    "    file.write(f\"Confusion Metrix :\\n{confusion_mat}\\n\\n\")\n",
    "    file.write(f\"Test_loss : {test_loss} \\nTest_accuracy : {test_accuracy}\")\n",
    "\n"
   ]
  },
  {
   "cell_type": "code",
   "execution_count": 52,
   "id": "131a0825",
   "metadata": {
    "colab": {
     "base_uri": "https://localhost:8080/"
    },
    "executionInfo": {
     "elapsed": 631,
     "status": "ok",
     "timestamp": 1706907162106,
     "user": {
      "displayName": "Snehal Shukla",
      "userId": "13308935849291023492"
     },
     "user_tz": -330
    },
    "id": "131a0825",
    "outputId": "ae56623f-8846-443e-b6eb-bac175b0f7ac"
   },
   "outputs": [
    {
     "name": "stdout",
     "output_type": "stream",
     "text": [
      "Classification Report :               precision    recall  f1-score   support\n",
      "\n",
      "          AD       0.82      0.89      0.85      4320\n",
      "         ADH       0.92      0.88      0.90      4300\n",
      "          AL       0.88      0.93      0.91      4481\n",
      "          AN       0.94      0.91      0.92      4238\n",
      "          AT       0.91      0.88      0.89      4124\n",
      "         ATH       0.79      0.93      0.86      4370\n",
      "           B       0.88      0.91      0.89      4355\n",
      "          BH       0.92      0.91      0.92      4176\n",
      "          CH       0.89      0.90      0.89      4253\n",
      "         CHH       0.90      0.83      0.87      4416\n",
      "           D       0.88      0.88      0.88      4246\n",
      "          DH       0.84      0.63      0.72      4707\n",
      "           F       0.80      0.84      0.82      4308\n",
      "           G       0.88      0.94      0.91      4291\n",
      "          GH       0.68      0.81      0.74      4127\n",
      "          GN       0.92      0.99      0.95      4434\n",
      "           H       0.89      0.77      0.83      4687\n",
      "           J       0.87      0.94      0.90      4317\n",
      "           K       0.85      0.80      0.82      4614\n",
      "          KH       0.99      0.92      0.95      4334\n",
      "          KS       0.92      0.87      0.90      4463\n",
      "           L       0.94      0.88      0.91      4396\n",
      "           M       0.92      0.89      0.90      4250\n",
      "           N       0.86      0.92      0.89      4193\n",
      "           P       0.72      0.79      0.75      4336\n",
      "           R       0.86      0.90      0.88      3930\n",
      "           S       0.93      0.90      0.92      4555\n",
      "          SH       0.87      0.93      0.90      4788\n",
      "         SHH       0.92      0.88      0.90      4290\n",
      "           T       0.95      0.92      0.93      4325\n",
      "          TH       0.90      0.89      0.89      4217\n",
      "           V       0.83      0.89      0.86      4515\n",
      "           Y       0.79      0.71      0.75      4272\n",
      "           Z       0.95      0.90      0.92      4222\n",
      "\n",
      "    accuracy                           0.87    147850\n",
      "   macro avg       0.88      0.87      0.87    147850\n",
      "weighted avg       0.88      0.87      0.87    147850\n",
      "\n",
      "confusion_matrix : [[3844    1   21 ...   20    1    0]\n",
      " [   9 3765    9 ...   11   58   17]\n",
      " [  18    2 4165 ...   70    3    0]\n",
      " ...\n",
      " [   3    2  118 ... 4018    8    0]\n",
      " [   0   25    4 ...   57 3051    0]\n",
      " [   5    3    9 ...    5    0 3792]]\n"
     ]
    }
   ],
   "source": [
    "print(f\"Classification Report : {classification_rep}\")\n",
    "print(f\"confusion_matrix : {confusion_mat}\")\n"
   ]
  },
  {
   "cell_type": "code",
   "execution_count": 53,
   "id": "WE8U71o2b__1",
   "metadata": {
    "colab": {
     "base_uri": "https://localhost:8080/"
    },
    "executionInfo": {
     "elapsed": 4,
     "status": "ok",
     "timestamp": 1706907181558,
     "user": {
      "displayName": "Snehal Shukla",
      "userId": "13308935849291023492"
     },
     "user_tz": -330
    },
    "id": "WE8U71o2b__1",
    "outputId": "861bb720-dc7c-40a5-c3f0-d821b43ee383"
   },
   "outputs": [
    {
     "name": "stderr",
     "output_type": "stream",
     "text": [
      "/usr/local/lib/python3.10/dist-packages/keras/src/engine/training.py:3103: UserWarning: You are saving your model as an HDF5 file via `model.save()`. This file format is considered legacy. We recommend using instead the native Keras format, e.g. `model.save('my_model.keras')`.\n",
      "  saving_api.save_model(\n"
     ]
    },
    {
     "data": {
      "text/plain": [
       "['/content/drive/MyDrive/models/Consonant_label_encoder_gray_v2.joblib']"
      ]
     },
     "execution_count": 53,
     "metadata": {},
     "output_type": "execute_result"
    }
   ],
   "source": [
    "model.save('/content/drive/MyDrive/models/Consonant_model_gray_v2.h5')\n",
    "joblib.dump(label_encoder, '/content/drive/MyDrive/models/Consonant_label_encoder_gray_v2.joblib')"
   ]
  },
  {
   "cell_type": "code",
   "execution_count": 54,
   "id": "g9CvFKHjX6ew",
   "metadata": {
    "executionInfo": {
     "elapsed": 3,
     "status": "ok",
     "timestamp": 1706907181558,
     "user": {
      "displayName": "Snehal Shukla",
      "userId": "13308935849291023492"
     },
     "user_tz": -330
    },
    "id": "g9CvFKHjX6ew"
   },
   "outputs": [],
   "source": [
    "np.save('/content/drive/MyDrive/Phd_project/models/Consonant_label_encoder_gray_v2.npy', label_encoder.classes_)"
   ]
  },
  {
   "cell_type": "code",
   "execution_count": 55,
   "id": "49dbc3bb",
   "metadata": {
    "executionInfo": {
     "elapsed": 1229,
     "status": "ok",
     "timestamp": 1706907186267,
     "user": {
      "displayName": "Snehal Shukla",
      "userId": "13308935849291023492"
     },
     "user_tz": -330
    },
    "id": "49dbc3bb"
   },
   "outputs": [],
   "source": [
    "np.savetxt('confusion_matrix_con_gray_v2.txt', confusion_mat, fmt='%d')\n"
   ]
  },
  {
   "cell_type": "code",
   "execution_count": 56,
   "id": "ikjxgYjBYDeK",
   "metadata": {
    "colab": {
     "base_uri": "https://localhost:8080/"
    },
    "executionInfo": {
     "elapsed": 3,
     "status": "ok",
     "timestamp": 1706907187920,
     "user": {
      "displayName": "Snehal Shukla",
      "userId": "13308935849291023492"
     },
     "user_tz": -330
    },
    "id": "ikjxgYjBYDeK",
    "outputId": "72bc7a8a-6af2-4d4d-8b34-60a60a94124c"
   },
   "outputs": [
    {
     "data": {
      "text/plain": [
       "array(['KH', 'N', 'H', ..., 'J', 'SHH', 'J'], dtype='<U3')"
      ]
     },
     "execution_count": 56,
     "metadata": {},
     "output_type": "execute_result"
    }
   ],
   "source": [
    "predicted_labels_str"
   ]
  },
  {
   "cell_type": "code",
   "execution_count": null,
   "id": "3AVcsknkHP0W",
   "metadata": {
    "id": "3AVcsknkHP0W"
   },
   "outputs": [],
   "source": [
    "sns.heatmap(confusion_mat, annot=True, fmt='d', cmap='Blues', cbar=False,xticklabels=predicted_labels_str, yticklabels=true_labels_str)\n",
    "\n",
    "plt.title('Confusion Matrix')\n",
    "plt.xlabel('Predicted Label')\n",
    "plt.ylabel('True Label')\n",
    "plt.show()"
   ]
  },
  {
   "cell_type": "code",
   "execution_count": null,
   "id": "2AYUaLEXYeKo",
   "metadata": {
    "id": "2AYUaLEXYeKo"
   },
   "outputs": [],
   "source": []
  }
 ],
 "metadata": {
  "accelerator": "GPU",
  "colab": {
   "gpuType": "A100",
   "machine_shape": "hm",
   "provenance": []
  },
  "kernelspec": {
   "display_name": "Python 3 (ipykernel)",
   "language": "python",
   "name": "python3"
  },
  "language_info": {
   "codemirror_mode": {
    "name": "ipython",
    "version": 3
   },
   "file_extension": ".py",
   "mimetype": "text/x-python",
   "name": "python",
   "nbconvert_exporter": "python",
   "pygments_lexer": "ipython3",
   "version": "3.11.5"
  }
 },
 "nbformat": 4,
 "nbformat_minor": 5
}
