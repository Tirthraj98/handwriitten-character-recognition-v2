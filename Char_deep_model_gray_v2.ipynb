{
 "cells": [
  {
   "cell_type": "code",
   "execution_count": 2,
   "id": "0babe173",
   "metadata": {
    "executionInfo": {
     "elapsed": 1060,
     "status": "ok",
     "timestamp": 1706947428030,
     "user": {
      "displayName": "Snehal Shukla",
      "userId": "13308935849291023492"
     },
     "user_tz": -330
    },
    "id": "0babe173"
   },
   "outputs": [],
   "source": [
    "import numpy as np\n",
    "import matplotlib.pyplot as plt\n"
   ]
  },
  {
   "cell_type": "code",
   "execution_count": 3,
   "id": "QUuvo9iIYTvt",
   "metadata": {
    "executionInfo": {
     "elapsed": 3,
     "status": "ok",
     "timestamp": 1706947430284,
     "user": {
      "displayName": "Snehal Shukla",
      "userId": "13308935849291023492"
     },
     "user_tz": -330
    },
    "id": "QUuvo9iIYTvt"
   },
   "outputs": [],
   "source": [
    "file_name = \"/content/drive/MyDrive/Phd_project/models/analysis_files/Character_deep_model_gray_v2\""
   ]
  },
  {
   "cell_type": "code",
   "execution_count": 4,
   "id": "7ddd786c",
   "metadata": {
    "executionInfo": {
     "elapsed": 26454,
     "status": "ok",
     "timestamp": 1706947456736,
     "user": {
      "displayName": "Snehal Shukla",
      "userId": "13308935849291023492"
     },
     "user_tz": -330
    },
    "id": "7ddd786c"
   },
   "outputs": [],
   "source": [
    "data = np.load(\"/content/drive/MyDrive/Phd_project/dataset_v2/data50x50_char_augmented_gray.npy\")\n",
    "labels = np.load(\"/content/drive/MyDrive/Phd_project/dataset_v2/labels50x50_char_augmented_gray.npy\")"
   ]
  },
  {
   "cell_type": "code",
   "execution_count": 5,
   "id": "3525a695",
   "metadata": {
    "colab": {
     "base_uri": "https://localhost:8080/"
    },
    "executionInfo": {
     "elapsed": 28,
     "status": "ok",
     "timestamp": 1706947456736,
     "user": {
      "displayName": "Snehal Shukla",
      "userId": "13308935849291023492"
     },
     "user_tz": -330
    },
    "id": "3525a695",
    "outputId": "e39483de-6ade-429d-9948-93858f0c298d"
   },
   "outputs": [
    {
     "data": {
      "text/plain": [
       "array([[[255, 255, 255, ..., 255, 255, 255],\n",
       "        [255, 255, 255, ..., 255, 255, 255],\n",
       "        [255, 255, 255, ..., 255, 255, 255],\n",
       "        ...,\n",
       "        [255, 255, 255, ..., 255, 255, 255],\n",
       "        [255, 255, 255, ..., 255, 255, 255],\n",
       "        [255, 255, 255, ..., 255, 255, 255]],\n",
       "\n",
       "       [[ 59, 191, 255, ..., 255, 255, 255],\n",
       "        [ 63, 166, 255, ..., 255, 255, 255],\n",
       "        [ 53, 113, 255, ..., 255, 255, 255],\n",
       "        ...,\n",
       "        [255, 255, 255, ..., 255, 255, 255],\n",
       "        [255, 255, 255, ..., 255, 255, 255],\n",
       "        [255, 255, 255, ..., 255, 255, 255]],\n",
       "\n",
       "       [[255, 255, 255, ..., 255, 255, 255],\n",
       "        [255, 255, 255, ..., 255, 255, 255],\n",
       "        [255, 255, 255, ..., 255, 255, 255],\n",
       "        ...,\n",
       "        [255, 255, 255, ..., 255, 255, 255],\n",
       "        [255, 255, 255, ..., 255, 255, 255],\n",
       "        [255, 255, 255, ..., 255, 255, 255]],\n",
       "\n",
       "       ...,\n",
       "\n",
       "       [[250, 250, 250, ..., 244, 243, 242],\n",
       "        [250, 250, 250, ..., 244, 242, 242],\n",
       "        [251, 251, 251, ..., 244, 243, 242],\n",
       "        ...,\n",
       "        [244, 244, 244, ..., 200, 232, 242],\n",
       "        [244, 244, 244, ..., 208, 234, 242],\n",
       "        [244, 244, 244, ..., 213, 235, 242]],\n",
       "\n",
       "       [[242, 242, 242, ..., 239, 237, 236],\n",
       "        [243, 243, 242, ..., 238, 237, 236],\n",
       "        [244, 244, 243, ..., 238, 236, 235],\n",
       "        ...,\n",
       "        [235, 236, 237, ..., 231, 231, 231],\n",
       "        [235, 235, 236, ..., 231, 231, 232],\n",
       "        [235, 235, 235, ..., 232, 232, 232]],\n",
       "\n",
       "       [[204, 204, 203, ..., 208, 208, 209],\n",
       "        [204, 204, 203, ..., 209, 208, 208],\n",
       "        [204, 204, 203, ..., 210, 209, 208],\n",
       "        ...,\n",
       "        [215, 215, 215, ..., 207, 206, 206],\n",
       "        [216, 216, 216, ..., 207, 206, 206],\n",
       "        [216, 216, 216, ..., 208, 207, 206]]], dtype=uint8)"
      ]
     },
     "execution_count": 5,
     "metadata": {},
     "output_type": "execute_result"
    }
   ],
   "source": [
    "data\n"
   ]
  },
  {
   "cell_type": "code",
   "execution_count": 6,
   "id": "58497fde",
   "metadata": {
    "colab": {
     "base_uri": "https://localhost:8080/"
    },
    "executionInfo": {
     "elapsed": 27,
     "status": "ok",
     "timestamp": 1706947456737,
     "user": {
      "displayName": "Snehal Shukla",
      "userId": "13308935849291023492"
     },
     "user_tz": -330
    },
    "id": "58497fde",
    "outputId": "382f504f-89ea-4380-96ba-5310f010036b"
   },
   "outputs": [
    {
     "data": {
      "text/plain": [
       "array(['SHHA', 'SHHA', 'SHHA', ..., 'YRA', 'YRA', 'YRA'], dtype='<U6')"
      ]
     },
     "execution_count": 6,
     "metadata": {},
     "output_type": "execute_result"
    }
   ],
   "source": [
    "labels"
   ]
  },
  {
   "cell_type": "code",
   "execution_count": 7,
   "id": "35ab7831",
   "metadata": {
    "executionInfo": {
     "elapsed": 23,
     "status": "ok",
     "timestamp": 1706947456737,
     "user": {
      "displayName": "Snehal Shukla",
      "userId": "13308935849291023492"
     },
     "user_tz": -330
    },
    "id": "35ab7831"
   },
   "outputs": [],
   "source": [
    "def show_img():\n",
    "    cnt = np.random.randint(0,len(labels))\n",
    "    plt.imshow(data[cnt])\n",
    "    plt.title(labels[cnt])\n",
    "    plt.axis(\"off\")\n"
   ]
  },
  {
   "cell_type": "code",
   "execution_count": 8,
   "id": "a226e148",
   "metadata": {
    "colab": {
     "base_uri": "https://localhost:8080/",
     "height": 428
    },
    "executionInfo": {
     "elapsed": 23,
     "status": "ok",
     "timestamp": 1706947456737,
     "user": {
      "displayName": "Snehal Shukla",
      "userId": "13308935849291023492"
     },
     "user_tz": -330
    },
    "id": "a226e148",
    "outputId": "36f110a9-8845-415c-e6a0-d56fdb9b4019",
    "scrolled": true
   },
   "outputs": [
    {
     "data": {
      "image/png": "[encoded data removed]",
      "text/plain": [
       "<Figure size 640x480 with 1 Axes>"
      ]
     },
     "metadata": {},
     "output_type": "display_data"
    }
   ],
   "source": [
    "show_img()"
   ]
  },
  {
   "cell_type": "code",
   "execution_count": 9,
   "id": "f050d9b3",
   "metadata": {
    "colab": {
     "base_uri": "https://localhost:8080/"
    },
    "executionInfo": {
     "elapsed": 21,
     "status": "ok",
     "timestamp": 1706947456737,
     "user": {
      "displayName": "Snehal Shukla",
      "userId": "13308935849291023492"
     },
     "user_tz": -330
    },
    "id": "f050d9b3",
    "outputId": "2d14696d-08e4-4372-ffa9-9af8711388eb"
   },
   "outputs": [
    {
     "data": {
      "text/plain": [
       "(985924, 50, 50)"
      ]
     },
     "execution_count": 9,
     "metadata": {},
     "output_type": "execute_result"
    }
   ],
   "source": [
    "data.shape"
   ]
  },
  {
   "cell_type": "code",
   "execution_count": 10,
   "id": "e627ea33",
   "metadata": {
    "colab": {
     "base_uri": "https://localhost:8080/"
    },
    "executionInfo": {
     "elapsed": 19,
     "status": "ok",
     "timestamp": 1706947456737,
     "user": {
      "displayName": "Snehal Shukla",
      "userId": "13308935849291023492"
     },
     "user_tz": -330
    },
    "id": "e627ea33",
    "outputId": "c74e190f-6dec-4196-ffa8-9c7242f444b7"
   },
   "outputs": [
    {
     "data": {
      "text/plain": [
       "(985924,)"
      ]
     },
     "execution_count": 10,
     "metadata": {},
     "output_type": "execute_result"
    }
   ],
   "source": [
    "labels.shape"
   ]
  },
  {
   "cell_type": "code",
   "execution_count": 11,
   "id": "6af9a4e5",
   "metadata": {
    "colab": {
     "base_uri": "https://localhost:8080/"
    },
    "executionInfo": {
     "elapsed": 18,
     "status": "ok",
     "timestamp": 1706947456737,
     "user": {
      "displayName": "Snehal Shukla",
      "userId": "13308935849291023492"
     },
     "user_tz": -330
    },
    "id": "6af9a4e5",
    "outputId": "88de5f59-0b9d-4ebf-eb4a-9b8b60af4446"
   },
   "outputs": [
    {
     "data": {
      "text/plain": [
       "(50, 50)"
      ]
     },
     "execution_count": 11,
     "metadata": {},
     "output_type": "execute_result"
    }
   ],
   "source": [
    "\n",
    "data[0].shape"
   ]
  },
  {
   "cell_type": "code",
   "execution_count": 12,
   "id": "6d8c672c",
   "metadata": {
    "colab": {
     "base_uri": "https://localhost:8080/"
    },
    "executionInfo": {
     "elapsed": 17,
     "status": "ok",
     "timestamp": 1706947456738,
     "user": {
      "displayName": "Snehal Shukla",
      "userId": "13308935849291023492"
     },
     "user_tz": -330
    },
    "id": "6d8c672c",
    "outputId": "bed79970-36f6-4884-c931-63af54fe54d0"
   },
   "outputs": [
    {
     "data": {
      "text/plain": [
       "2464810000"
      ]
     },
     "execution_count": 12,
     "metadata": {},
     "output_type": "execute_result"
    }
   ],
   "source": [
    "\n",
    "data.size"
   ]
  },
  {
   "cell_type": "code",
   "execution_count": 13,
   "id": "bcfc846c",
   "metadata": {
    "colab": {
     "base_uri": "https://localhost:8080/"
    },
    "executionInfo": {
     "elapsed": 16,
     "status": "ok",
     "timestamp": 1706947456738,
     "user": {
      "displayName": "Snehal Shukla",
      "userId": "13308935849291023492"
     },
     "user_tz": -330
    },
    "id": "bcfc846c",
    "outputId": "774480fa-4a31-44e4-fcbe-5d5f1f19a482"
   },
   "outputs": [
    {
     "data": {
      "text/plain": [
       "2500"
      ]
     },
     "execution_count": 13,
     "metadata": {},
     "output_type": "execute_result"
    }
   ],
   "source": [
    "data[0].size"
   ]
  },
  {
   "cell_type": "code",
   "execution_count": 14,
   "id": "b3ad23c0",
   "metadata": {
    "colab": {
     "base_uri": "https://localhost:8080/"
    },
    "executionInfo": {
     "elapsed": 15,
     "status": "ok",
     "timestamp": 1706947456738,
     "user": {
      "displayName": "Snehal Shukla",
      "userId": "13308935849291023492"
     },
     "user_tz": -330
    },
    "id": "b3ad23c0",
    "outputId": "a045cbf0-0e5e-4e61-b445-bdd72938d063"
   },
   "outputs": [
    {
     "data": {
      "text/plain": [
       "3"
      ]
     },
     "execution_count": 14,
     "metadata": {},
     "output_type": "execute_result"
    }
   ],
   "source": [
    "\n",
    "data.ndim"
   ]
  },
  {
   "cell_type": "code",
   "execution_count": 15,
   "id": "90cd2b3d",
   "metadata": {
    "colab": {
     "base_uri": "https://localhost:8080/"
    },
    "executionInfo": {
     "elapsed": 13,
     "status": "ok",
     "timestamp": 1706947456738,
     "user": {
      "displayName": "Snehal Shukla",
      "userId": "13308935849291023492"
     },
     "user_tz": -330
    },
    "id": "90cd2b3d",
    "outputId": "c7891089-5689-4ca8-cd40-2adbe89c4109"
   },
   "outputs": [
    {
     "data": {
      "text/plain": [
       "2"
      ]
     },
     "execution_count": 15,
     "metadata": {},
     "output_type": "execute_result"
    }
   ],
   "source": [
    "data[0].ndim"
   ]
  },
  {
   "cell_type": "code",
   "execution_count": 16,
   "id": "79ff98a7",
   "metadata": {
    "colab": {
     "base_uri": "https://localhost:8080/"
    },
    "executionInfo": {
     "elapsed": 11,
     "status": "ok",
     "timestamp": 1706947456738,
     "user": {
      "displayName": "Snehal Shukla",
      "userId": "13308935849291023492"
     },
     "user_tz": -330
    },
    "id": "79ff98a7",
    "outputId": "945d4f6b-68d1-4443-f600-1d2c84174c67"
   },
   "outputs": [
    {
     "data": {
      "text/plain": [
       "array(['ADA', 'ADAH', 'ADAI', 'ADAMN', 'ADAU', 'ADE', 'ADEE', 'ADHA',\n",
       "       'ADHAH', 'ADHAI', 'ADHAMN', 'ADHAU', 'ADHE', 'ADHEE', 'ADHI',\n",
       "       'ADHO', 'ADHOO', 'ADHRA', 'ADHRU', 'ADHU', 'ADI', 'ADO', 'ADOO',\n",
       "       'ADRA', 'ADRU', 'ADU', 'ALA', 'ALAH', 'ALAI', 'ALAMN', 'ALAU',\n",
       "       'ALE', 'ALEE', 'ALI', 'ALO', 'ALOO', 'ALRA', 'ALRU', 'ALU', 'ANA',\n",
       "       'ANAH', 'ANAI', 'ANAMN', 'ANAU', 'ANE', 'ANEE', 'ANI', 'ANO',\n",
       "       'ANOO', 'ANRA', 'ANRU', 'ANU', 'ARADA', 'ARADHA', 'ARALA', 'ARANA',\n",
       "       'ARATA', 'ARATHA', 'ARBA', 'ARBHA', 'ARCHA', 'ARCHHA', 'ARDA',\n",
       "       'ARDHA', 'ARFA', 'ARGA', 'ARGHA', 'ARGNA', 'ARHA', 'ARJA', 'ARKA',\n",
       "       'ARKHA', 'ARKSA', 'ARLA', 'ARMA', 'ARNA', 'ARPA', 'ARRA', 'ARSA',\n",
       "       'ARSHA', 'ARSHHA', 'ARTA', 'ARTHA', 'ARVA', 'ARYA', 'ARZA', 'ATA',\n",
       "       'ATAH', 'ATAI', 'ATAMN', 'ATAU', 'ATE', 'ATEE', 'ATHA', 'ATHAH',\n",
       "       'ATHAI', 'ATHAMN', 'ATHAU', 'ATHE', 'ATHEE', 'ATHI', 'ATHO',\n",
       "       'ATHOO', 'ATHRA', 'ATHRU', 'ATHU', 'ATI', 'ATO', 'ATOO', 'ATRA',\n",
       "       'ATRU', 'ATU', 'BA', 'BAH', 'BAI', 'BAMN', 'BAU', 'BE', 'BEE',\n",
       "       'BHA', 'BHAH', 'BHAI', 'BHAMN', 'BHAU', 'BHE', 'BHEE', 'BHI',\n",
       "       'BHO', 'BHOO', 'BHRA', 'BHRU', 'BHU', 'BI', 'BO', 'BOO', 'BRA',\n",
       "       'BRU', 'BU', 'CHA', 'CHAH', 'CHAI', 'CHAMN', 'CHAU', 'CHE', 'CHEE',\n",
       "       'CHHA', 'CHHAH', 'CHHAI', 'CHHAMN', 'CHHAU', 'CHHE', 'CHHEE',\n",
       "       'CHHI', 'CHHO', 'CHHOO', 'CHHRA', 'CHHRU', 'CHHU', 'CHI', 'CHO',\n",
       "       'CHOO', 'CHRA', 'CHRU', 'CHU', 'DA', 'DAH', 'DAI', 'DAMN', 'DAU',\n",
       "       'DE', 'DEE', 'DHA', 'DHAH', 'DHAI', 'DHAMN', 'DHAU', 'DHE', 'DHEE',\n",
       "       'DHI', 'DHO', 'DHOO', 'DHRA', 'DHRU', 'DHU', 'DI', 'DO', 'DOO',\n",
       "       'DRA', 'DRU', 'DU', 'FA', 'FAH', 'FAI', 'FAMN', 'FAU', 'FE', 'FEE',\n",
       "       'FI', 'FO', 'FOO', 'FRA', 'FRU', 'FU', 'GA', 'GAH', 'GAI', 'GAMN',\n",
       "       'GAU', 'GE', 'GEE', 'GHA', 'GHAH', 'GHAI', 'GHAMN', 'GHAU', 'GHE',\n",
       "       'GHEE', 'GHI', 'GHO', 'GHOO', 'GHRA', 'GHRU', 'GHU', 'GI', 'GNA',\n",
       "       'GNAH', 'GNAI', 'GNAMN', 'GNAU', 'GNE', 'GNEE', 'GNI', 'GNO',\n",
       "       'GNOO', 'GNRA', 'GNRU', 'GNU', 'GO', 'GOO', 'GRA', 'GRU', 'GU',\n",
       "       'HA', 'HAH', 'HAI', 'HAMN', 'HAU', 'HE', 'HEE', 'HI', 'HO', 'HOO',\n",
       "       'HRA', 'HRU', 'HU', 'JA', 'JAH', 'JAI', 'JAMN', 'JAU', 'JE', 'JEE',\n",
       "       'JI', 'JO', 'JOO', 'JRA', 'JRU', 'JU', 'KA', 'KAH', 'KAI', 'KAMN',\n",
       "       'KAU', 'KE', 'KEE', 'KHA', 'KHAH', 'KHAI', 'KHAMN', 'KHAU', 'KHE',\n",
       "       'KHEE', 'KHI', 'KHO', 'KHOO', 'KHRA', 'KHRU', 'KHU', 'KI', 'KO',\n",
       "       'KOO', 'KRA', 'KRU', 'KSA', 'KSAH', 'KSAI', 'KSAMN', 'KSAU', 'KSE',\n",
       "       'KSEE', 'KSI', 'KSO', 'KSOO', 'KSRA', 'KSRU', 'KSU', 'KU', 'LA',\n",
       "       'LAH', 'LAI', 'LAMN', 'LAU', 'LE', 'LEE', 'LI', 'LO', 'LOO', 'LRA',\n",
       "       'LRU', 'LU', 'MA', 'MAH', 'MAI', 'MAMN', 'MAU', 'ME', 'MEE', 'MI',\n",
       "       'MO', 'MOO', 'MRA', 'MRU', 'MU', 'NA', 'NAH', 'NAI', 'NAMN', 'NAU',\n",
       "       'NE', 'NEE', 'NI', 'NO', 'NOO', 'NRA', 'NRU', 'NU', 'PA', 'PAH',\n",
       "       'PAI', 'PAMN', 'PAU', 'PE', 'PEE', 'PI', 'PO', 'POO', 'PRA', 'PRU',\n",
       "       'PU', 'RA', 'RAH', 'RAI', 'RAMN', 'RAU', 'RE', 'REE', 'RI', 'RO',\n",
       "       'ROO', 'RRA', 'RRU', 'RU', 'SA', 'SAH', 'SAI', 'SAMN', 'SAU', 'SE',\n",
       "       'SEE', 'SHA', 'SHAH', 'SHAI', 'SHAMN', 'SHAU', 'SHE', 'SHEE',\n",
       "       'SHHA', 'SHHAH', 'SHHAI', 'SHHAMN', 'SHHAU', 'SHHE', 'SHHEE',\n",
       "       'SHHI', 'SHHO', 'SHHOO', 'SHHRA', 'SHHRU', 'SHHU', 'SHI', 'SHO',\n",
       "       'SHOO', 'SHRA', 'SHRU', 'SHU', 'SI', 'SO', 'SOO', 'SRA', 'SRU',\n",
       "       'SU', 'TA', 'TAH', 'TAI', 'TAMN', 'TAU', 'TE', 'TEE', 'THA',\n",
       "       'THAH', 'THAI', 'THAMN', 'THAU', 'THE', 'THEE', 'THI', 'THO',\n",
       "       'THOO', 'THRA', 'THRU', 'THU', 'TI', 'TO', 'TOO', 'TRA', 'TRU',\n",
       "       'TU', 'VA', 'VAH', 'VAI', 'VAMN', 'VAU', 'VE', 'VEE', 'VI', 'VO',\n",
       "       'VOO', 'VRA', 'VRU', 'VU', 'YA', 'YAH', 'YAI', 'YAMN', 'YAU', 'YE',\n",
       "       'YEE', 'YI', 'YO', 'YOO', 'YRA', 'YRU', 'YU', 'ZA', 'ZAH', 'ZAI',\n",
       "       'ZAMN', 'ZAU', 'ZE', 'ZEE', 'ZI', 'ZO', 'ZOO', 'ZRA', 'ZRU', 'ZU'],\n",
       "      dtype='<U6')"
      ]
     },
     "execution_count": 16,
     "metadata": {},
     "output_type": "execute_result"
    }
   ],
   "source": [
    "\n",
    "classes = np.unique(labels)\n",
    "classes"
   ]
  },
  {
   "cell_type": "code",
   "execution_count": 17,
   "id": "a2403522",
   "metadata": {
    "colab": {
     "base_uri": "https://localhost:8080/"
    },
    "executionInfo": {
     "elapsed": 10,
     "status": "ok",
     "timestamp": 1706947456738,
     "user": {
      "displayName": "Snehal Shukla",
      "userId": "13308935849291023492"
     },
     "user_tz": -330
    },
    "id": "a2403522",
    "outputId": "75968522-a043-47af-b5c3-dbedfe0edd51"
   },
   "outputs": [
    {
     "data": {
      "text/plain": [
       "476"
      ]
     },
     "execution_count": 17,
     "metadata": {},
     "output_type": "execute_result"
    }
   ],
   "source": [
    "num_classes = len(classes)\n",
    "num_classes"
   ]
  },
  {
   "cell_type": "code",
   "execution_count": 18,
   "id": "71816eeb",
   "metadata": {
    "executionInfo": {
     "elapsed": 3181,
     "status": "ok",
     "timestamp": 1706947459911,
     "user": {
      "displayName": "Snehal Shukla",
      "userId": "13308935849291023492"
     },
     "user_tz": -330
    },
    "id": "71816eeb"
   },
   "outputs": [],
   "source": [
    "value_counts = {}\n",
    "for char in classes:\n",
    "    cnt = np.count_nonzero(labels == char)\n",
    "    value_counts[char] = cnt"
   ]
  },
  {
   "cell_type": "code",
   "execution_count": 19,
   "id": "0988848e",
   "metadata": {
    "colab": {
     "base_uri": "https://localhost:8080/"
    },
    "executionInfo": {
     "elapsed": 13,
     "status": "ok",
     "timestamp": 1706947459911,
     "user": {
      "displayName": "Snehal Shukla",
      "userId": "13308935849291023492"
     },
     "user_tz": -330
    },
    "id": "0988848e",
    "outputId": "bc03d975-2392-4454-8111-123f090c4eab"
   },
   "outputs": [
    {
     "data": {
      "text/plain": [
       "{'ADA': 1863,\n",
       " 'ADAH': 1869,\n",
       " 'ADAI': 2262,\n",
       " 'ADAMN': 1864,\n",
       " 'ADAU': 1869,\n",
       " 'ADE': 2322,\n",
       " 'ADEE': 1859,\n",
       " 'ADHA': 1868,\n",
       " 'ADHAH': 1854,\n",
       " 'ADHAI': 2234,\n",
       " 'ADHAMN': 1849,\n",
       " 'ADHAU': 1865,\n",
       " 'ADHE': 2677,\n",
       " 'ADHEE': 1871,\n",
       " 'ADHI': 2290,\n",
       " 'ADHO': 1795,\n",
       " 'ADHOO': 2114,\n",
       " 'ADHRA': 1864,\n",
       " 'ADHRU': 1850,\n",
       " 'ADHU': 2680,\n",
       " 'ADI': 2300,\n",
       " 'ADO': 1842,\n",
       " 'ADOO': 2037,\n",
       " 'ADRA': 2303,\n",
       " 'ADRU': 1861,\n",
       " 'ADU': 2713,\n",
       " 'ALA': 1874,\n",
       " 'ALAH': 1869,\n",
       " 'ALAI': 2308,\n",
       " 'ALAMN': 1882,\n",
       " 'ALAU': 1844,\n",
       " 'ALE': 2720,\n",
       " 'ALEE': 1857,\n",
       " 'ALI': 2226,\n",
       " 'ALO': 3561,\n",
       " 'ALOO': 2284,\n",
       " 'ALRA': 1410,\n",
       " 'ALRU': 1863,\n",
       " 'ALU': 2721,\n",
       " 'ANA': 1856,\n",
       " 'ANAH': 1864,\n",
       " 'ANAI': 2152,\n",
       " 'ANAMN': 1861,\n",
       " 'ANAU': 1867,\n",
       " 'ANE': 2707,\n",
       " 'ANEE': 1633,\n",
       " 'ANI': 2228,\n",
       " 'ANO': 1522,\n",
       " 'ANOO': 2068,\n",
       " 'ANRA': 2305,\n",
       " 'ANRU': 1873,\n",
       " 'ANU': 2439,\n",
       " 'ARADA': 1855,\n",
       " 'ARADHA': 1869,\n",
       " 'ARALA': 1416,\n",
       " 'ARANA': 1869,\n",
       " 'ARATA': 1868,\n",
       " 'ARATHA': 1864,\n",
       " 'ARBA': 1419,\n",
       " 'ARBHA': 1411,\n",
       " 'ARCHA': 1871,\n",
       " 'ARCHHA': 1863,\n",
       " 'ARDA': 1418,\n",
       " 'ARDHA': 1412,\n",
       " 'ARFA': 1413,\n",
       " 'ARGA': 1855,\n",
       " 'ARGHA': 1858,\n",
       " 'ARGNA': 1423,\n",
       " 'ARHA': 1425,\n",
       " 'ARJA': 1873,\n",
       " 'ARKA': 1944,\n",
       " 'ARKHA': 1860,\n",
       " 'ARKSA': 1430,\n",
       " 'ARLA': 1440,\n",
       " 'ARMA': 1416,\n",
       " 'ARNA': 1410,\n",
       " 'ARPA': 1427,\n",
       " 'ARRA': 1859,\n",
       " 'ARSA': 1009,\n",
       " 'ARSHA': 2242,\n",
       " 'ARSHHA': 1422,\n",
       " 'ARTA': 1861,\n",
       " 'ARTHA': 1412,\n",
       " 'ARVA': 1423,\n",
       " 'ARYA': 1857,\n",
       " 'ARZA': 1879,\n",
       " 'ATA': 1419,\n",
       " 'ATAH': 1871,\n",
       " 'ATAI': 2298,\n",
       " 'ATAMN': 2042,\n",
       " 'ATAU': 1870,\n",
       " 'ATE': 2235,\n",
       " 'ATEE': 1851,\n",
       " 'ATHA': 1872,\n",
       " 'ATHAH': 1865,\n",
       " 'ATHAI': 2316,\n",
       " 'ATHAMN': 2078,\n",
       " 'ATHAU': 1856,\n",
       " 'ATHE': 2338,\n",
       " 'ATHEE': 1866,\n",
       " 'ATHI': 2295,\n",
       " 'ATHO': 1870,\n",
       " 'ATHOO': 2014,\n",
       " 'ATHRA': 2284,\n",
       " 'ATHRU': 1856,\n",
       " 'ATHU': 2699,\n",
       " 'ATI': 2302,\n",
       " 'ATO': 1839,\n",
       " 'ATOO': 1681,\n",
       " 'ATRA': 1871,\n",
       " 'ATRU': 1853,\n",
       " 'ATU': 2528,\n",
       " 'BA': 1870,\n",
       " 'BAH': 1854,\n",
       " 'BAI': 2234,\n",
       " 'BAMN': 1861,\n",
       " 'BAU': 1874,\n",
       " 'BE': 2611,\n",
       " 'BEE': 1872,\n",
       " 'BHA': 1863,\n",
       " 'BHAH': 1854,\n",
       " 'BHAI': 2259,\n",
       " 'BHAMN': 1454,\n",
       " 'BHAU': 1855,\n",
       " 'BHE': 2301,\n",
       " 'BHEE': 1871,\n",
       " 'BHI': 2232,\n",
       " 'BHO': 1842,\n",
       " 'BHOO': 2096,\n",
       " 'BHRA': 2277,\n",
       " 'BHRU': 1857,\n",
       " 'BHU': 2631,\n",
       " 'BI': 2228,\n",
       " 'BO': 1854,\n",
       " 'BOO': 2134,\n",
       " 'BRA': 2314,\n",
       " 'BRU': 1868,\n",
       " 'BU': 3109,\n",
       " 'CHA': 1874,\n",
       " 'CHAH': 1852,\n",
       " 'CHAI': 2291,\n",
       " 'CHAMN': 2205,\n",
       " 'CHAU': 1865,\n",
       " 'CHE': 2706,\n",
       " 'CHEE': 1870,\n",
       " 'CHHA': 1864,\n",
       " 'CHHAH': 1876,\n",
       " 'CHHAI': 2331,\n",
       " 'CHHAMN': 2300,\n",
       " 'CHHAU': 1858,\n",
       " 'CHHE': 2655,\n",
       " 'CHHEE': 2182,\n",
       " 'CHHI': 1875,\n",
       " 'CHHO': 1985,\n",
       " 'CHHOO': 1811,\n",
       " 'CHHRA': 2303,\n",
       " 'CHHRU': 1863,\n",
       " 'CHHU': 2705,\n",
       " 'CHI': 1860,\n",
       " 'CHO': 2039,\n",
       " 'CHOO': 1838,\n",
       " 'CHRA': 1851,\n",
       " 'CHRU': 1404,\n",
       " 'CHU': 2725,\n",
       " 'DA': 1862,\n",
       " 'DAH': 1873,\n",
       " 'DAI': 2296,\n",
       " 'DAMN': 1866,\n",
       " 'DAU': 1853,\n",
       " 'DE': 2664,\n",
       " 'DEE': 1866,\n",
       " 'DHA': 2304,\n",
       " 'DHAH': 1857,\n",
       " 'DHAI': 2301,\n",
       " 'DHAMN': 1854,\n",
       " 'DHAU': 1858,\n",
       " 'DHE': 2680,\n",
       " 'DHEE': 1566,\n",
       " 'DHI': 2310,\n",
       " 'DHO': 4117,\n",
       " 'DHOO': 2483,\n",
       " 'DHRA': 2070,\n",
       " 'DHRU': 2384,\n",
       " 'DHU': 2240,\n",
       " 'DI': 2299,\n",
       " 'DO': 1873,\n",
       " 'DOO': 1914,\n",
       " 'DRA': 2228,\n",
       " 'DRU': 1858,\n",
       " 'DU': 2458,\n",
       " 'FA': 1852,\n",
       " 'FAH': 1874,\n",
       " 'FAI': 2322,\n",
       " 'FAMN': 1857,\n",
       " 'FAU': 1862,\n",
       " 'FE': 2616,\n",
       " 'FEE': 1875,\n",
       " 'FI': 2291,\n",
       " 'FO': 1864,\n",
       " 'FOO': 2062,\n",
       " 'FRA': 2286,\n",
       " 'FRU': 1857,\n",
       " 'FU': 2704,\n",
       " 'GA': 1861,\n",
       " 'GAH': 1862,\n",
       " 'GAI': 1850,\n",
       " 'GAMN': 2267,\n",
       " 'GAU': 1869,\n",
       " 'GE': 2712,\n",
       " 'GEE': 1851,\n",
       " 'GHA': 1849,\n",
       " 'GHAH': 1868,\n",
       " 'GHAI': 1826,\n",
       " 'GHAMN': 2229,\n",
       " 'GHAU': 1907,\n",
       " 'GHE': 2735,\n",
       " 'GHEE': 1852,\n",
       " 'GHI': 1852,\n",
       " 'GHO': 2210,\n",
       " 'GHOO': 1390,\n",
       " 'GHRA': 1862,\n",
       " 'GHRU': 1339,\n",
       " 'GHU': 2682,\n",
       " 'GI': 1855,\n",
       " 'GNA': 1866,\n",
       " 'GNAH': 1860,\n",
       " 'GNAI': 2298,\n",
       " 'GNAMN': 1837,\n",
       " 'GNAU': 1863,\n",
       " 'GNE': 2749,\n",
       " 'GNEE': 1852,\n",
       " 'GNI': 2306,\n",
       " 'GNO': 3571,\n",
       " 'GNOO': 2272,\n",
       " 'GNRA': 1419,\n",
       " 'GNRU': 1705,\n",
       " 'GNU': 2608,\n",
       " 'GO': 2294,\n",
       " 'GOO': 1853,\n",
       " 'GRA': 1867,\n",
       " 'GRU': 1866,\n",
       " 'GU': 2735,\n",
       " 'HA': 1851,\n",
       " 'HAH': 1855,\n",
       " 'HAI': 2121,\n",
       " 'HAMN': 2277,\n",
       " 'HAU': 1860,\n",
       " 'HE': 2736,\n",
       " 'HEE': 1840,\n",
       " 'HI': 2258,\n",
       " 'HO': 3594,\n",
       " 'HOO': 2292,\n",
       " 'HRA': 2600,\n",
       " 'HRU': 1869,\n",
       " 'HU': 2662,\n",
       " 'JA': 1879,\n",
       " 'JAH': 1864,\n",
       " 'JAI': 2298,\n",
       " 'JAMN': 2301,\n",
       " 'JAU': 1863,\n",
       " 'JE': 2588,\n",
       " 'JEE': 1863,\n",
       " 'JI': 2311,\n",
       " 'JO': 1860,\n",
       " 'JOO': 1751,\n",
       " 'JRA': 1851,\n",
       " 'JRU': 1866,\n",
       " 'JU': 2615,\n",
       " 'KA': 1858,\n",
       " 'KAH': 1846,\n",
       " 'KAI': 1874,\n",
       " 'KAMN': 2133,\n",
       " 'KAU': 1880,\n",
       " 'KE': 3000,\n",
       " 'KEE': 1856,\n",
       " 'KHA': 1864,\n",
       " 'KHAH': 1857,\n",
       " 'KHAI': 1866,\n",
       " 'KHAMN': 2301,\n",
       " 'KHAU': 1878,\n",
       " 'KHE': 2984,\n",
       " 'KHEE': 1855,\n",
       " 'KHI': 1860,\n",
       " 'KHO': 2290,\n",
       " 'KHOO': 1851,\n",
       " 'KHRA': 1878,\n",
       " 'KHRU': 1857,\n",
       " 'KHU': 2685,\n",
       " 'KI': 1856,\n",
       " 'KO': 2310,\n",
       " 'KOO': 1841,\n",
       " 'KRA': 3836,\n",
       " 'KRU': 1866,\n",
       " 'KSA': 1871,\n",
       " 'KSAH': 1869,\n",
       " 'KSAI': 2315,\n",
       " 'KSAMN': 1863,\n",
       " 'KSAU': 1875,\n",
       " 'KSE': 2719,\n",
       " 'KSEE': 1855,\n",
       " 'KSI': 2157,\n",
       " 'KSO': 3550,\n",
       " 'KSOO': 2306,\n",
       " 'KSRA': 1400,\n",
       " 'KSRU': 1831,\n",
       " 'KSU': 2675,\n",
       " 'KU': 2725,\n",
       " 'LA': 1868,\n",
       " 'LAH': 1882,\n",
       " 'LAI': 2310,\n",
       " 'LAMN': 1868,\n",
       " 'LAU': 1860,\n",
       " 'LE': 2701,\n",
       " 'LEE': 1867,\n",
       " 'LI': 2241,\n",
       " 'LO': 3562,\n",
       " 'LOO': 2205,\n",
       " 'LRA': 1847,\n",
       " 'LRU': 1852,\n",
       " 'LU': 1824,\n",
       " 'MA': 1883,\n",
       " 'MAH': 1870,\n",
       " 'MAI': 2293,\n",
       " 'MAMN': 1870,\n",
       " 'MAU': 1858,\n",
       " 'ME': 2405,\n",
       " 'MEE': 1859,\n",
       " 'MI': 2183,\n",
       " 'MO': 1812,\n",
       " 'MOO': 2196,\n",
       " 'MRA': 2300,\n",
       " 'MRU': 1864,\n",
       " 'MU': 2608,\n",
       " 'NA': 1855,\n",
       " 'NAH': 1873,\n",
       " 'NAI': 2295,\n",
       " 'NAMN': 1849,\n",
       " 'NAU': 1877,\n",
       " 'NE': 2480,\n",
       " 'NEE': 1870,\n",
       " 'NI': 2309,\n",
       " 'NO': 1861,\n",
       " 'NOO': 1900,\n",
       " 'NRA': 2006,\n",
       " 'NRU': 1854,\n",
       " 'NU': 2462,\n",
       " 'PA': 1846,\n",
       " 'PAH': 1858,\n",
       " 'PAI': 2303,\n",
       " 'PAMN': 1816,\n",
       " 'PAU': 1861,\n",
       " 'PE': 2690,\n",
       " 'PEE': 1866,\n",
       " 'PI': 2289,\n",
       " 'PO': 1860,\n",
       " 'POO': 2185,\n",
       " 'PRA': 2289,\n",
       " 'PRU': 1867,\n",
       " 'PU': 2749,\n",
       " 'RA': 1438,\n",
       " 'RAH': 1852,\n",
       " 'RAI': 2299,\n",
       " 'RAMN': 1852,\n",
       " 'RAU': 1416,\n",
       " 'RE': 2296,\n",
       " 'REE': 1869,\n",
       " 'RI': 2246,\n",
       " 'RO': 1135,\n",
       " 'ROO': 2195,\n",
       " 'RRA': 1404,\n",
       " 'RRU': 1799,\n",
       " 'RU': 2563,\n",
       " 'SA': 1859,\n",
       " 'SAH': 1889,\n",
       " 'SAI': 2208,\n",
       " 'SAMN': 1867,\n",
       " 'SAU': 1848,\n",
       " 'SE': 2728,\n",
       " 'SEE': 1678,\n",
       " 'SHA': 2291,\n",
       " 'SHAH': 1869,\n",
       " 'SHAI': 2299,\n",
       " 'SHAMN': 1864,\n",
       " 'SHAU': 2297,\n",
       " 'SHE': 2728,\n",
       " 'SHEE': 1867,\n",
       " 'SHHA': 1875,\n",
       " 'SHHAH': 1855,\n",
       " 'SHHAI': 2291,\n",
       " 'SHHAMN': 1865,\n",
       " 'SHHAU': 1862,\n",
       " 'SHHE': 2688,\n",
       " 'SHHEE': 1869,\n",
       " 'SHHI': 2311,\n",
       " 'SHHO': 3566,\n",
       " 'SHHOO': 2257,\n",
       " 'SHHRA': 176,\n",
       " 'SHHRU': 1862,\n",
       " 'SHHU': 2703,\n",
       " 'SHI': 2297,\n",
       " 'SHO': 3595,\n",
       " 'SHOO': 2218,\n",
       " 'SHRA': 1404,\n",
       " 'SHRU': 2287,\n",
       " 'SHU': 2713,\n",
       " 'SI': 2259,\n",
       " 'SO': 3569,\n",
       " 'SOO': 2255,\n",
       " 'SRA': 2736,\n",
       " 'SRU': 1857,\n",
       " 'SU': 2628,\n",
       " 'TA': 1867,\n",
       " 'TAH': 1875,\n",
       " 'TAI': 2297,\n",
       " 'TAMN': 1867,\n",
       " 'TAU': 1854,\n",
       " 'TE': 2739,\n",
       " 'TEE': 1866,\n",
       " 'THA': 1868,\n",
       " 'THAH': 1868,\n",
       " 'THAI': 2308,\n",
       " 'THAMN': 1874,\n",
       " 'THAU': 1852,\n",
       " 'THE': 2701,\n",
       " 'THEE': 1873,\n",
       " 'THI': 2063,\n",
       " 'THO': 1457,\n",
       " 'THOO': 2058,\n",
       " 'THRA': 2301,\n",
       " 'THRU': 1864,\n",
       " 'THU': 2613,\n",
       " 'TI': 2224,\n",
       " 'TO': 1450,\n",
       " 'TOO': 2112,\n",
       " 'TRA': 2310,\n",
       " 'TRU': 1872,\n",
       " 'TU': 2672,\n",
       " 'VA': 1868,\n",
       " 'VAH': 1853,\n",
       " 'VAI': 2297,\n",
       " 'VAMN': 1861,\n",
       " 'VAU': 1857,\n",
       " 'VE': 2652,\n",
       " 'VEE': 1877,\n",
       " 'VI': 2299,\n",
       " 'VO': 3559,\n",
       " 'VOO': 2155,\n",
       " 'VRA': 2136,\n",
       " 'VRU': 1871,\n",
       " 'VU': 2427,\n",
       " 'YA': 1855,\n",
       " 'YAH': 1860,\n",
       " 'YAI': 2292,\n",
       " 'YAMN': 1857,\n",
       " 'YAU': 1857,\n",
       " 'YE': 2310,\n",
       " 'YEE': 1869,\n",
       " 'YI': 2082,\n",
       " 'YO': 1729,\n",
       " 'YOO': 2230,\n",
       " 'YRA': 2251,\n",
       " 'YRU': 1871,\n",
       " 'YU': 2533,\n",
       " 'ZA': 1854,\n",
       " 'ZAH': 1865,\n",
       " 'ZAI': 2309,\n",
       " 'ZAMN': 2078,\n",
       " 'ZAU': 1859,\n",
       " 'ZE': 2339,\n",
       " 'ZEE': 1870,\n",
       " 'ZI': 2279,\n",
       " 'ZO': 1859,\n",
       " 'ZOO': 1709,\n",
       " 'ZRA': 1870,\n",
       " 'ZRU': 1854,\n",
       " 'ZU': 2557}"
      ]
     },
     "execution_count": 19,
     "metadata": {},
     "output_type": "execute_result"
    }
   ],
   "source": [
    "value_counts"
   ]
  },
  {
   "cell_type": "code",
   "execution_count": 20,
   "id": "89623e53",
   "metadata": {
    "colab": {
     "base_uri": "https://localhost:8080/"
    },
    "executionInfo": {
     "elapsed": 10,
     "status": "ok",
     "timestamp": 1706947459911,
     "user": {
      "displayName": "Snehal Shukla",
      "userId": "13308935849291023492"
     },
     "user_tz": -330
    },
    "id": "89623e53",
    "outputId": "ccbe6758-30fc-438c-ccbc-b63fd14830b3"
   },
   "outputs": [
    {
     "data": {
      "text/plain": [
       "176"
      ]
     },
     "execution_count": 20,
     "metadata": {},
     "output_type": "execute_result"
    }
   ],
   "source": [
    "\n",
    "\n",
    "min(value_counts.values())"
   ]
  },
  {
   "cell_type": "code",
   "execution_count": 21,
   "id": "b80ffdaf",
   "metadata": {
    "executionInfo": {
     "elapsed": 5,
     "status": "ok",
     "timestamp": 1706947459911,
     "user": {
      "displayName": "Snehal Shukla",
      "userId": "13308935849291023492"
     },
     "user_tz": -330
    },
    "id": "b80ffdaf"
   },
   "outputs": [],
   "source": [
    "sorted_values = list(value_counts.values())"
   ]
  },
  {
   "cell_type": "code",
   "execution_count": 22,
   "id": "3c7c553f",
   "metadata": {
    "executionInfo": {
     "elapsed": 6,
     "status": "ok",
     "timestamp": 1706947459912,
     "user": {
      "displayName": "Snehal Shukla",
      "userId": "13308935849291023492"
     },
     "user_tz": -330
    },
    "id": "3c7c553f"
   },
   "outputs": [],
   "source": [
    "sorted_values.sort()"
   ]
  },
  {
   "cell_type": "code",
   "execution_count": 23,
   "id": "6cdcbd66",
   "metadata": {
    "colab": {
     "base_uri": "https://localhost:8080/"
    },
    "executionInfo": {
     "elapsed": 5,
     "status": "ok",
     "timestamp": 1706947459912,
     "user": {
      "displayName": "Snehal Shukla",
      "userId": "13308935849291023492"
     },
     "user_tz": -330
    },
    "id": "6cdcbd66",
    "outputId": "c86ed85c-66c7-44eb-aca7-b17d137b8561"
   },
   "outputs": [
    {
     "data": {
      "text/plain": [
       "[176, 1009, 1135, 1339, 1390]"
      ]
     },
     "execution_count": 23,
     "metadata": {},
     "output_type": "execute_result"
    }
   ],
   "source": [
    "sorted_values[:5]"
   ]
  },
  {
   "cell_type": "code",
   "execution_count": 24,
   "id": "202d9398",
   "metadata": {
    "executionInfo": {
     "elapsed": 2129,
     "status": "ok",
     "timestamp": 1706947462037,
     "user": {
      "displayName": "Snehal Shukla",
      "userId": "13308935849291023492"
     },
     "user_tz": -330
    },
    "id": "202d9398"
   },
   "outputs": [],
   "source": [
    "import numpy as np\n",
    "from sklearn.model_selection import train_test_split\n",
    "from sklearn.metrics import classification_report, confusion_matrix\n",
    "import matplotlib.pyplot as plt\n",
    "import seaborn as sns\n",
    "from sklearn.preprocessing import LabelEncoder\n",
    "import time\n",
    "import joblib"
   ]
  },
  {
   "cell_type": "code",
   "execution_count": 25,
   "id": "55d8a9a5",
   "metadata": {
    "executionInfo": {
     "elapsed": 2672,
     "status": "ok",
     "timestamp": 1706947464704,
     "user": {
      "displayName": "Snehal Shukla",
      "userId": "13308935849291023492"
     },
     "user_tz": -330
    },
    "id": "55d8a9a5"
   },
   "outputs": [],
   "source": [
    "from keras.preprocessing.image import ImageDataGenerator\n",
    "# from keras.applications import ResNet50\n",
    "from keras.models import Sequential\n",
    "from keras.utils import to_categorical\n",
    "from keras.callbacks import EarlyStopping\n",
    "from keras.layers import Dense, Conv2D, Dropout,MaxPooling2D,Flatten\n",
    "from keras.optimizers import Adam"
   ]
  },
  {
   "cell_type": "code",
   "execution_count": 26,
   "id": "e93e25b9",
   "metadata": {
    "executionInfo": {
     "elapsed": 10,
     "status": "ok",
     "timestamp": 1706947464704,
     "user": {
      "displayName": "Snehal Shukla",
      "userId": "13308935849291023492"
     },
     "user_tz": -330
    },
    "id": "e93e25b9"
   },
   "outputs": [],
   "source": [
    "# image_size = (50, 50)\n",
    "# batch_size = 10"
   ]
  },
  {
   "cell_type": "code",
   "execution_count": 27,
   "id": "287218e0",
   "metadata": {
    "executionInfo": {
     "elapsed": 9,
     "status": "ok",
     "timestamp": 1706947464704,
     "user": {
      "displayName": "Snehal Shukla",
      "userId": "13308935849291023492"
     },
     "user_tz": -330
    },
    "id": "287218e0"
   },
   "outputs": [],
   "source": [
    "# Load data and labels\n",
    "# data = np.load(\"\")\n",
    "# labels = np.load(\"\")\n",
    "\n",
    "# data = data / 255"
   ]
  },
  {
   "cell_type": "code",
   "execution_count": 28,
   "id": "6a69376d",
   "metadata": {
    "colab": {
     "base_uri": "https://localhost:8080/"
    },
    "executionInfo": {
     "elapsed": 8,
     "status": "ok",
     "timestamp": 1706947464704,
     "user": {
      "displayName": "Snehal Shukla",
      "userId": "13308935849291023492"
     },
     "user_tz": -330
    },
    "id": "6a69376d",
    "outputId": "4535f802-5a4d-4998-d6ae-ee15ed240fa3"
   },
   "outputs": [
    {
     "name": "stdout",
     "output_type": "stream",
     "text": [
      "[  0   1   2   3   4   5   6   7   8   9  10  11  12  13  14  15  16  17\n",
      "  18  19  20  21  22  23  24  25  26  27  28  29  30  31  32  33  34  35\n",
      "  36  37  38  39  40  41  42  43  44  45  46  47  48  49  50  51  52  53\n",
      "  54  55  56  57  58  59  60  61  62  63  64  65  66  67  68  69  70  71\n",
      "  72  73  74  75  76  77  78  79  80  81  82  83  84  85  86  87  88  89\n",
      "  90  91  92  93  94  95  96  97  98  99 100 101 102 103 104 105 106 107\n",
      " 108 109 110 111 112 113 114 115 116 117 118 119 120 121 122 123 124 125\n",
      " 126 127 128 129 130 131 132 133 134 135 136 137 138 139 140 141 142 143\n",
      " 144 145 146 147 148 149 150 151 152 153 154 155 156 157 158 159 160 161\n",
      " 162 163 164 165 166 167 168 169 170 171 172 173 174 175 176 177 178 179\n",
      " 180 181 182 183 184 185 186 187 188 189 190 191 192 193 194 195 196 197\n",
      " 198 199 200 201 202 203 204 205 206 207 208 209 210 211 212 213 214 215\n",
      " 216 217 218 219 220 221 222 223 224 225 226 227 228 229 230 231 232 233\n",
      " 234 235 236 237 238 239 240 241 242 243 244 245 246 247 248 249 250 251\n",
      " 252 253 254 255 256 257 258 259 260 261 262 263 264 265 266 267 268 269\n",
      " 270 271 272 273 274 275 276 277 278 279 280 281 282 283 284 285 286 287\n",
      " 288 289 290 291 292 293 294 295 296 297 298 299 300 301 302 303 304 305\n",
      " 306 307 308 309 310 311 312 313 314 315 316 317 318 319 320 321 322 323\n",
      " 324 325 326 327 328 329 330 331 332 333 334 335 336 337 338 339 340 341\n",
      " 342 343 344 345 346 347 348 349 350 351 352 353 354 355 356 357 358 359\n",
      " 360 361 362 363 364 365 366 367 368 369 370 371 372 373 374 375 376 377\n",
      " 378 379 380 381 382 383 384 385 386 387 388 389 390 391 392 393 394 395\n",
      " 396 397 398 399 400 401 402 403 404 405 406 407 408 409 410 411 412 413\n",
      " 414 415 416 417 418 419 420 421 422 423 424 425 426 427 428 429 430 431\n",
      " 432 433 434 435 436 437 438 439 440 441 442 443 444 445 446 447 448 449\n",
      " 450 451 452 453 454 455 456 457 458 459 460 461 462 463 464 465 466 467\n",
      " 468 469 470 471 472 473 474 475]\n"
     ]
    }
   ],
   "source": [
    "# Convert labels to numerical format using LabelEncoder\n",
    "label_encoder = LabelEncoder()\n",
    "numerical_labels = label_encoder.fit_transform(labels)\n",
    "\n",
    "print((np.unique(numerical_labels)))"
   ]
  },
  {
   "cell_type": "code",
   "execution_count": 29,
   "id": "acebda20",
   "metadata": {
    "colab": {
     "base_uri": "https://localhost:8080/"
    },
    "executionInfo": {
     "elapsed": 2053,
     "status": "ok",
     "timestamp": 1706947516678,
     "user": {
      "displayName": "Snehal Shukla",
      "userId": "13308935849291023492"
     },
     "user_tz": -330
    },
    "id": "acebda20",
    "outputId": "26f83ab7-98fb-424c-9ed6-19b3c4ed4088"
   },
   "outputs": [
    {
     "name": "stdout",
     "output_type": "stream",
     "text": [
      "(739443, 50, 50)\n",
      "(739443,)\n",
      "(123241, 50, 50)\n",
      "(123241,)\n",
      "(123240, 50, 50)\n",
      "(123240,)\n"
     ]
    }
   ],
   "source": [
    "\n",
    "\n",
    "# Split the data into training, validation, and test sets\n",
    "X_train, X_temp, y_train, y_temp = train_test_split(\n",
    "    data, numerical_labels, test_size=0.25, stratify=numerical_labels,random_state=15\n",
    ")\n",
    "X_test, X_val, y_test, y_val = train_test_split(\n",
    "    X_temp, y_temp, test_size=0.5, stratify=y_temp\n",
    ")\n",
    "\n",
    "print(X_train.shape)\n",
    "print(y_train.shape)\n",
    "print(X_val.shape)\n",
    "print(y_val.shape)\n",
    "print(X_test.shape)\n",
    "print(y_test.shape)"
   ]
  },
  {
   "cell_type": "code",
   "execution_count": 30,
   "id": "7961fa4e",
   "metadata": {
    "executionInfo": {
     "elapsed": 5127,
     "status": "ok",
     "timestamp": 1706947525684,
     "user": {
      "displayName": "Snehal Shukla",
      "userId": "13308935849291023492"
     },
     "user_tz": -330
    },
    "id": "7961fa4e"
   },
   "outputs": [],
   "source": [
    "# Rescale images to the range [0, 1]\n",
    "X_train = X_train / 255.0\n",
    "X_val = X_val / 255.0\n",
    "X_test = X_test / 255.0\n",
    "\n",
    "# Replicate the grayscale channel to create pseudo-RGB images\n",
    "# X_train = np.repeat(X_train[..., np.newaxis], 3, -1)\n",
    "# X_val = np.repeat(X_val[..., np.newaxis], 3, -1)\n",
    "# X_test = np.repeat(X_test[..., np.newaxis], 3, -1)\n"
   ]
  },
  {
   "cell_type": "code",
   "execution_count": 31,
   "id": "7fe4b94a",
   "metadata": {
    "colab": {
     "base_uri": "https://localhost:8080/"
    },
    "executionInfo": {
     "elapsed": 1224,
     "status": "ok",
     "timestamp": 1706947526903,
     "user": {
      "displayName": "Snehal Shukla",
      "userId": "13308935849291023492"
     },
     "user_tz": -330
    },
    "id": "7fe4b94a",
    "outputId": "9de459c5-ee7d-4795-afad-e0dd5cc9431c"
   },
   "outputs": [
    {
     "name": "stdout",
     "output_type": "stream",
     "text": [
      "(739443, 50, 50)\n",
      "(739443, 476)\n",
      "(123241, 50, 50)\n",
      "(123241, 476)\n",
      "(123240, 50, 50)\n",
      "(123240, 476)\n"
     ]
    }
   ],
   "source": [
    "# Convert labels to one-hot encoding\n",
    "y_train = to_categorical(y_train, num_classes=len(np.unique(numerical_labels)))\n",
    "y_val = to_categorical(y_val, num_classes=len(np.unique(numerical_labels)))\n",
    "y_test = to_categorical(y_test, num_classes=len(np.unique(numerical_labels)))\n",
    "\n",
    "print(X_train.shape)\n",
    "print(y_train.shape)\n",
    "print(X_val.shape)\n",
    "print(y_val.shape)\n",
    "print(X_test.shape)\n",
    "print(y_test.shape)"
   ]
  },
  {
   "cell_type": "code",
   "execution_count": 32,
   "id": "489dfa22",
   "metadata": {
    "executionInfo": {
     "elapsed": 4,
     "status": "ok",
     "timestamp": 1706947526903,
     "user": {
      "displayName": "Snehal Shukla",
      "userId": "13308935849291023492"
     },
     "user_tz": -330
    },
    "id": "489dfa22"
   },
   "outputs": [],
   "source": [
    "\n",
    "# On-the-fly data augmentation\n",
    "# X_traingen = ImageDataGenerator(\n",
    "#     rotation_range=12,\n",
    "#     width_shift_range=0.1,\n",
    "#     height_shift_range=0.1,\n",
    "#     shear_range=0.4,\n",
    "#     zoom_range=0.1,\n",
    "#     brightness_range=(0.5,1.2),\n",
    "#     fill_mode='nearest'\n",
    "# )"
   ]
  },
  {
   "cell_type": "code",
   "execution_count": 33,
   "id": "f53abd5e",
   "metadata": {
    "executionInfo": {
     "elapsed": 3,
     "status": "ok",
     "timestamp": 1706947529892,
     "user": {
      "displayName": "Snehal Shukla",
      "userId": "13308935849291023492"
     },
     "user_tz": -330
    },
    "id": "f53abd5e"
   },
   "outputs": [],
   "source": [
    "# train_generator = X_traingen.flow(X_train, y_train, batch_size=batch_size)\n"
   ]
  },
  {
   "cell_type": "code",
   "execution_count": 34,
   "id": "5542048c",
   "metadata": {
    "executionInfo": {
     "elapsed": 5,
     "status": "ok",
     "timestamp": 1706947531847,
     "user": {
      "displayName": "Snehal Shukla",
      "userId": "13308935849291023492"
     },
     "user_tz": -330
    },
    "id": "5542048c"
   },
   "outputs": [],
   "source": [
    "# Load pre-trained ResNet50 model\n",
    "# base_model = ResNet50(weights='imagenet', include_top=False, input_shape=(50, 50, 3))\n"
   ]
  },
  {
   "cell_type": "code",
   "execution_count": 35,
   "id": "807ac7ef",
   "metadata": {
    "executionInfo": {
     "elapsed": 4,
     "status": "ok",
     "timestamp": 1706947531847,
     "user": {
      "displayName": "Snehal Shukla",
      "userId": "13308935849291023492"
     },
     "user_tz": -330
    },
    "id": "807ac7ef"
   },
   "outputs": [],
   "source": [
    "# Freeze the pre-trained layers\n",
    "# for layer in base_model.layers:\n",
    "#     layer.trainable = False\n"
   ]
  },
  {
   "cell_type": "code",
   "execution_count": 36,
   "id": "ac5012e1",
   "metadata": {
    "executionInfo": {
     "elapsed": 5,
     "status": "ok",
     "timestamp": 1706947531848,
     "user": {
      "displayName": "Snehal Shukla",
      "userId": "13308935849291023492"
     },
     "user_tz": -330
    },
    "id": "ac5012e1"
   },
   "outputs": [],
   "source": [
    "# Build the complete model\n",
    "# model = Sequential([\n",
    "#     base_model,\n",
    "#     GlobalAveragePooling2D(),\n",
    "#     Dense(256, activation='relu'),\n",
    "#     Dropout(0.5),\n",
    "#     Dense(len(np.unique(numerical_labels)), activation='softmax')\n",
    "# ])"
   ]
  },
  {
   "cell_type": "code",
   "execution_count": 37,
   "id": "1oOV40wxDkpg",
   "metadata": {
    "executionInfo": {
     "elapsed": 1196,
     "status": "ok",
     "timestamp": 1706947533041,
     "user": {
      "displayName": "Snehal Shukla",
      "userId": "13308935849291023492"
     },
     "user_tz": -330
    },
    "id": "1oOV40wxDkpg"
   },
   "outputs": [],
   "source": [
    "# Define the CNN model with more convolutional and dense layers\n",
    "model = Sequential()\n",
    "model.add(Conv2D(32, (3, 3), activation='relu', input_shape=(50, 50, 1), padding='same'))\n",
    "model.add(MaxPooling2D((2, 2)))\n",
    "# Added a second convolutional layer with 64 filters\n",
    "model.add(Conv2D(64, (3, 3), activation='relu', padding='same'))\n",
    "model.add(MaxPooling2D((2, 2)))\n",
    "# Added a third convolutional layer with 128 filters\n",
    "model.add(Conv2D(128, (3, 3), activation='relu', padding='same'))\n",
    "model.add(MaxPooling2D((2, 2)))\n",
    "# Added a fourth convolutional layer with 256 filters\n",
    "model.add(Conv2D(256, (3, 3), activation='relu', padding='same'))\n",
    "model.add(MaxPooling2D((2, 2)))\n",
    "model.add(Flatten())\n",
    "model.add(Dense(512, activation='relu'))  # Increased the size of the first dense layer\n",
    "model.add(Dropout(0.3))  # Increased the dropout rate to 0.4\n",
    "# Added a second dense layer with 256 units\n",
    "model.add(Dense(256, activation='relu'))\n",
    "model.add(Dropout(0.2))  # Added dropout to the second dense layer\n",
    "model.add(Dense(len(np.unique(numerical_labels)), activation='softmax')) # Use number of unique labels\n"
   ]
  },
  {
   "cell_type": "code",
   "execution_count": 38,
   "id": "c23af1f7",
   "metadata": {
    "executionInfo": {
     "elapsed": 5,
     "status": "ok",
     "timestamp": 1706947533042,
     "user": {
      "displayName": "Snehal Shukla",
      "userId": "13308935849291023492"
     },
     "user_tz": -330
    },
    "id": "c23af1f7"
   },
   "outputs": [],
   "source": [
    "# Compile the model\n",
    "model.compile(optimizer=Adam(learning_rate=0.001), loss='categorical_crossentropy', metrics=['accuracy'])\n"
   ]
  },
  {
   "cell_type": "code",
   "execution_count": 39,
   "id": "93a3731b",
   "metadata": {
    "colab": {
     "base_uri": "https://localhost:8080/"
    },
    "executionInfo": {
     "elapsed": 9,
     "status": "ok",
     "timestamp": 1706947536729,
     "user": {
      "displayName": "Snehal Shukla",
      "userId": "13308935849291023492"
     },
     "user_tz": -330
    },
    "id": "93a3731b",
    "outputId": "381e4602-1d57-4767-c362-83f678f9de3c"
   },
   "outputs": [
    {
     "name": "stdout",
     "output_type": "stream",
     "text": [
      "Model: \"sequential\"\n",
      "_________________________________________________________________\n",
      " Layer (type)                Output Shape              Param #   \n",
      "=================================================================\n",
      " conv2d (Conv2D)             (None, 50, 50, 32)        320       \n",
      "                                                                 \n",
      " max_pooling2d (MaxPooling2  (None, 25, 25, 32)        0         \n",
      " D)                                                              \n",
      "                                                                 \n",
      " conv2d_1 (Conv2D)           (None, 25, 25, 64)        18496     \n",
      "                                                                 \n",
      " max_pooling2d_1 (MaxPoolin  (None, 12, 12, 64)        0         \n",
      " g2D)                                                            \n",
      "                                                                 \n",
      " conv2d_2 (Conv2D)           (None, 12, 12, 128)       73856     \n",
      "                                                                 \n",
      " max_pooling2d_2 (MaxPoolin  (None, 6, 6, 128)         0         \n",
      " g2D)                                                            \n",
      "                                                                 \n",
      " conv2d_3 (Conv2D)           (None, 6, 6, 256)         295168    \n",
      "                                                                 \n",
      " max_pooling2d_3 (MaxPoolin  (None, 3, 3, 256)         0         \n",
      " g2D)                                                            \n",
      "                                                                 \n",
      " flatten (Flatten)           (None, 2304)              0         \n",
      "                                                                 \n",
      " dense (Dense)               (None, 512)               1180160   \n",
      "                                                                 \n",
      " dropout (Dropout)           (None, 512)               0         \n",
      "                                                                 \n",
      " dense_1 (Dense)             (None, 256)               131328    \n",
      "                                                                 \n",
      " dropout_1 (Dropout)         (None, 256)               0         \n",
      "                                                                 \n",
      " dense_2 (Dense)             (None, 476)               122332    \n",
      "                                                                 \n",
      "=================================================================\n",
      "Total params: 1821660 (6.95 MB)\n",
      "Trainable params: 1821660 (6.95 MB)\n",
      "Non-trainable params: 0 (0.00 Byte)\n",
      "_________________________________________________________________\n"
     ]
    }
   ],
   "source": [
    "# Display the model summary\n",
    "summary = model.summary()\n"
   ]
  },
  {
   "cell_type": "code",
   "execution_count": 40,
   "id": "1683a992",
   "metadata": {
    "executionInfo": {
     "elapsed": 3,
     "status": "ok",
     "timestamp": 1706947541841,
     "user": {
      "displayName": "Snehal Shukla",
      "userId": "13308935849291023492"
     },
     "user_tz": -330
    },
    "id": "1683a992"
   },
   "outputs": [],
   "source": [
    "# Train the model with early stopping to avoid overfitting\n",
    "early_stopping = EarlyStopping(\n",
    "    monitor='val_loss', patience=3, restore_best_weights=True\n",
    ")"
   ]
  },
  {
   "cell_type": "code",
   "execution_count": 41,
   "id": "03a392b7",
   "metadata": {
    "colab": {
     "base_uri": "https://localhost:8080/"
    },
    "executionInfo": {
     "elapsed": 1454116,
     "status": "ok",
     "timestamp": 1706948997385,
     "user": {
      "displayName": "Snehal Shukla",
      "userId": "13308935849291023492"
     },
     "user_tz": -330
    },
    "id": "03a392b7",
    "outputId": "ad0ebdf8-4748-4259-c81a-a745fd1d8576"
   },
   "outputs": [
    {
     "name": "stdout",
     "output_type": "stream",
     "text": [
      "Epoch 1/40\n",
      "23108/23108 [==============================] - 140s 6ms/step - loss: 2.8892 - accuracy: 0.3406 - val_loss: 1.0999 - val_accuracy: 0.6905\n",
      "Epoch 2/40\n",
      "23108/23108 [==============================] - 128s 6ms/step - loss: 1.2315 - accuracy: 0.6552 - val_loss: 0.7872 - val_accuracy: 0.7749\n",
      "Epoch 3/40\n",
      "23108/23108 [==============================] - 130s 6ms/step - loss: 1.0254 - accuracy: 0.7104 - val_loss: 0.7789 - val_accuracy: 0.7768\n",
      "Epoch 4/40\n",
      "23108/23108 [==============================] - 131s 6ms/step - loss: 0.9506 - accuracy: 0.7315 - val_loss: 0.7321 - val_accuracy: 0.7884\n",
      "Epoch 5/40\n",
      "23108/23108 [==============================] - 130s 6ms/step - loss: 0.9218 - accuracy: 0.7408 - val_loss: 0.7010 - val_accuracy: 0.7988\n",
      "Epoch 6/40\n",
      "23108/23108 [==============================] - 131s 6ms/step - loss: 0.9065 - accuracy: 0.7461 - val_loss: 0.6964 - val_accuracy: 0.8008\n",
      "Epoch 7/40\n",
      "23108/23108 [==============================] - 131s 6ms/step - loss: 0.9001 - accuracy: 0.7497 - val_loss: 0.7277 - val_accuracy: 0.7941\n",
      "Epoch 8/40\n",
      "23108/23108 [==============================] - 131s 6ms/step - loss: 0.8987 - accuracy: 0.7504 - val_loss: 0.6841 - val_accuracy: 0.8045\n",
      "Epoch 9/40\n",
      "23108/23108 [==============================] - 128s 6ms/step - loss: 0.9047 - accuracy: 0.7505 - val_loss: 0.7979 - val_accuracy: 0.7760\n",
      "Epoch 10/40\n",
      "23108/23108 [==============================] - 128s 6ms/step - loss: 0.9117 - accuracy: 0.7501 - val_loss: 0.7911 - val_accuracy: 0.7788\n",
      "Epoch 11/40\n",
      "23108/23108 [==============================] - 128s 6ms/step - loss: 0.9160 - accuracy: 0.7501 - val_loss: 0.6911 - val_accuracy: 0.8056\n",
      "1453.8948698043823\n"
     ]
    }
   ],
   "source": [
    "start_time = time.time()\n",
    "history = model.fit(\n",
    "    X_train,y_train,\n",
    "    # train_generator,\n",
    "    # steps_per_epoch=len(X_train) // batch_size,\n",
    "    epochs=40,\n",
    "    validation_data=(X_val, y_val),\n",
    "    callbacks=[early_stopping]\n",
    ")\n",
    "end_time = time.time()\n",
    "training_time = end_time - start_time\n",
    "print(training_time)"
   ]
  },
  {
   "cell_type": "code",
   "execution_count": 42,
   "id": "a940a42f",
   "metadata": {
    "executionInfo": {
     "elapsed": 3065,
     "status": "ok",
     "timestamp": 1706949284598,
     "user": {
      "displayName": "Snehal Shukla",
      "userId": "13308935849291023492"
     },
     "user_tz": -330
    },
    "id": "a940a42f"
   },
   "outputs": [],
   "source": [
    "# Save training history to a text file\n",
    "import os\n",
    "os.chdir(\"/content/drive/MyDrive/Phd_project/models/analysis_files\")\n",
    "\n",
    "# with open(f'{file_name}.txt', 'w') as file:\n",
    "#     file.write(f\"{file_name}\\n\\n\")\n",
    "#     file.write(f\"Training time : {training_time}\\n\")\n",
    "#     file.write(str(history.history))\n",
    "with open(f'Character_deep_model_gray_v2.txt', 'w') as file:\n",
    "    file.write(f\"{file_name}\\n\\n\")\n",
    "    file.write(f\"Training time : {training_time}\\n\")\n",
    "    file.write(f\"Model Summary : {summary}\\n\")\n",
    "    file.write(str(history.history))"
   ]
  },
  {
   "cell_type": "code",
   "execution_count": 43,
   "id": "f48a9592",
   "metadata": {
    "colab": {
     "base_uri": "https://localhost:8080/",
     "height": 427
    },
    "executionInfo": {
     "elapsed": 13,
     "status": "ok",
     "timestamp": 1706949284598,
     "user": {
      "displayName": "Snehal Shukla",
      "userId": "13308935849291023492"
     },
     "user_tz": -330
    },
    "id": "f48a9592",
    "outputId": "4e3470c7-2d3f-4e91-90c5-03518f9543dd"
   },
   "outputs": [
    {
     "data": {
      "text/plain": [
       "<matplotlib.legend.Legend at 0x7853257a00d0>"
      ]
     },
     "execution_count": 43,
     "metadata": {},
     "output_type": "execute_result"
    },
    {
     "data": {
      "image/png": "[encoded data removed]",
      "text/plain": [
       "<Figure size 1200x400 with 1 Axes>"
      ]
     },
     "metadata": {},
     "output_type": "display_data"
    }
   ],
   "source": [
    "# Plot accuracy and loss graphs\n",
    "plt.figure(figsize=(12, 4))\n",
    "\n",
    "plt.subplot(1, 2, 1)\n",
    "plt.plot(history.history['accuracy'], label='Training Accuracy')\n",
    "plt.plot(history.history['val_accuracy'], label='Validation Accuracy')\n",
    "plt.title('Training and Validation Accuracy')\n",
    "plt.xlabel('Epoch')\n",
    "plt.ylabel('Accuracy')\n",
    "plt.legend()"
   ]
  },
  {
   "cell_type": "code",
   "execution_count": 44,
   "id": "945757e0",
   "metadata": {
    "colab": {
     "base_uri": "https://localhost:8080/",
     "height": 487
    },
    "executionInfo": {
     "elapsed": 7,
     "status": "ok",
     "timestamp": 1706949284598,
     "user": {
      "displayName": "Snehal Shukla",
      "userId": "13308935849291023492"
     },
     "user_tz": -330
    },
    "id": "945757e0",
    "outputId": "98618970-b67a-4b47-d78b-9d2b5755a0ff"
   },
   "outputs": [
    {
     "data": {
      "image/png": "[encoded data removed]",
      "text/plain": [
       "<Figure size 640x480 with 1 Axes>"
      ]
     },
     "metadata": {},
     "output_type": "display_data"
    }
   ],
   "source": [
    "plt.subplot(1, 2, 2)\n",
    "plt.plot(history.history['loss'], label='Training Loss')\n",
    "plt.plot(history.history['val_loss'], label='Validation Loss')\n",
    "plt.title('Training and Validation Loss')\n",
    "plt.xlabel('Epoch')\n",
    "plt.ylabel('Loss')\n",
    "plt.legend()\n",
    "\n",
    "plt.tight_layout()\n",
    "plt.show()\n"
   ]
  },
  {
   "cell_type": "code",
   "execution_count": 45,
   "id": "f6bf2ba5",
   "metadata": {
    "colab": {
     "base_uri": "https://localhost:8080/"
    },
    "executionInfo": {
     "elapsed": 13449,
     "status": "ok",
     "timestamp": 1706949298041,
     "user": {
      "displayName": "Snehal Shukla",
      "userId": "13308935849291023492"
     },
     "user_tz": -330
    },
    "id": "f6bf2ba5",
    "outputId": "3823762d-c91c-4f84-b3af-9562234836ef"
   },
   "outputs": [
    {
     "name": "stdout",
     "output_type": "stream",
     "text": [
      "3852/3852 [==============================] - 11s 3ms/step - loss: 0.6743 - accuracy: 0.8071\n",
      "Test Accuracy: 80.71%\n"
     ]
    }
   ],
   "source": [
    "\n",
    "# Evaluate the model on the test set\n",
    "test_loss, test_accuracy = model.evaluate(X_test, y_test)\n",
    "print(f'Test Accuracy: {test_accuracy * 100:.2f}%')\n"
   ]
  },
  {
   "cell_type": "code",
   "execution_count": 46,
   "id": "c0c6049e",
   "metadata": {
    "colab": {
     "base_uri": "https://localhost:8080/"
    },
    "executionInfo": {
     "elapsed": 12293,
     "status": "ok",
     "timestamp": 1706949310323,
     "user": {
      "displayName": "Snehal Shukla",
      "userId": "13308935849291023492"
     },
     "user_tz": -330
    },
    "id": "c0c6049e",
    "outputId": "b609ece2-4152-4366-ab76-6460ab221580"
   },
   "outputs": [
    {
     "name": "stdout",
     "output_type": "stream",
     "text": [
      "3852/3852 [==============================] - 7s 2ms/step\n"
     ]
    }
   ],
   "source": [
    "# Generate predictions\n",
    "predictions = model.predict(X_test)\n"
   ]
  },
  {
   "cell_type": "code",
   "execution_count": 47,
   "id": "03ab6b25",
   "metadata": {
    "executionInfo": {
     "elapsed": 10,
     "status": "ok",
     "timestamp": 1706949310323,
     "user": {
      "displayName": "Snehal Shukla",
      "userId": "13308935849291023492"
     },
     "user_tz": -330
    },
    "id": "03ab6b25"
   },
   "outputs": [],
   "source": [
    "# Convert one-hot encoded labels back to numerical labels\n",
    "true_labels = np.argmax(y_test, axis=1)\n",
    "predicted_labels = np.argmax(predictions, axis=1)\n"
   ]
  },
  {
   "cell_type": "code",
   "execution_count": 48,
   "id": "301bbcf6",
   "metadata": {
    "executionInfo": {
     "elapsed": 11,
     "status": "ok",
     "timestamp": 1706949310324,
     "user": {
      "displayName": "Snehal Shukla",
      "userId": "13308935849291023492"
     },
     "user_tz": -330
    },
    "id": "301bbcf6"
   },
   "outputs": [],
   "source": [
    "# Convert numerical labels back to string labels\n",
    "true_labels_str = label_encoder.inverse_transform(true_labels)\n",
    "predicted_labels_str = label_encoder.inverse_transform(predicted_labels)\n"
   ]
  },
  {
   "cell_type": "code",
   "execution_count": 49,
   "id": "9e63681e",
   "metadata": {
    "executionInfo": {
     "elapsed": 2433,
     "status": "ok",
     "timestamp": 1706949312748,
     "user": {
      "displayName": "Snehal Shukla",
      "userId": "13308935849291023492"
     },
     "user_tz": -330
    },
    "id": "9e63681e"
   },
   "outputs": [],
   "source": [
    "# Generate and save classification report and confusion matrix\n",
    "classification_rep = classification_report(true_labels_str, predicted_labels_str)\n",
    "confusion_mat = confusion_matrix(true_labels_str, predicted_labels_str,labels=np.unique(true_labels_str))\n"
   ]
  },
  {
   "cell_type": "code",
   "execution_count": 50,
   "id": "a8278a06",
   "metadata": {
    "executionInfo": {
     "elapsed": 15,
     "status": "ok",
     "timestamp": 1706949312749,
     "user": {
      "displayName": "Snehal Shukla",
      "userId": "13308935849291023492"
     },
     "user_tz": -330
    },
    "id": "a8278a06"
   },
   "outputs": [],
   "source": [
    "import os\n",
    "os.chdir(\"/content/drive/MyDrive/Phd_project/models/analysis_files\")\n",
    "with open(f'Character_deep_model_gray_v2.txt', 'a') as file:\n",
    "    file.write(f\"Classification Report :\\n{classification_rep}\")\n",
    "    file.write(f\"Confusion Metrix :\\n{confusion_mat}\\n\\n\")\n",
    "    file.write(f\"Test_loss : {test_loss} \\nTest_accuracy : {test_accuracy}\")\n",
    "\n"
   ]
  },
  {
   "cell_type": "code",
   "execution_count": 51,
   "id": "131a0825",
   "metadata": {
    "colab": {
     "base_uri": "https://localhost:8080/"
    },
    "executionInfo": {
     "elapsed": 15,
     "status": "ok",
     "timestamp": 1706949312749,
     "user": {
      "displayName": "Snehal Shukla",
      "userId": "13308935849291023492"
     },
     "user_tz": -330
    },
    "id": "131a0825",
    "outputId": "ebd5c87b-bd5c-48ca-fa03-05401b4c4c12"
   },
   "outputs": [
    {
     "name": "stdout",
     "output_type": "stream",
     "text": [
      "Classification Report :               precision    recall  f1-score   support\n",
      "\n",
      "         ADA       0.87      0.87      0.87       233\n",
      "        ADAH       0.65      0.87      0.74       234\n",
      "        ADAI       0.83      0.87      0.85       283\n",
      "       ADAMN       0.72      0.91      0.80       233\n",
      "        ADAU       0.87      0.88      0.88       234\n",
      "         ADE       0.63      0.83      0.72       290\n",
      "        ADEE       0.81      0.84      0.83       233\n",
      "        ADHA       0.91      0.90      0.90       234\n",
      "       ADHAH       0.76      0.79      0.77       232\n",
      "       ADHAI       0.91      0.80      0.85       279\n",
      "      ADHAMN       0.81      0.90      0.85       231\n",
      "       ADHAU       0.88      0.74      0.80       233\n",
      "        ADHE       0.85      0.89      0.87       334\n",
      "       ADHEE       0.85      0.73      0.79       234\n",
      "        ADHI       0.76      0.90      0.82       286\n",
      "        ADHO       0.84      0.89      0.86       225\n",
      "       ADHOO       0.58      0.73      0.64       264\n",
      "       ADHRA       0.85      0.83      0.84       233\n",
      "       ADHRU       0.83      0.83      0.83       232\n",
      "        ADHU       0.72      0.84      0.78       335\n",
      "         ADI       0.94      0.96      0.95       287\n",
      "         ADO       0.77      0.95      0.85       231\n",
      "        ADOO       0.56      0.72      0.63       254\n",
      "        ADRA       0.80      0.81      0.80       288\n",
      "        ADRU       0.79      0.80      0.80       233\n",
      "         ADU       0.52      0.83      0.64       339\n",
      "         ALA       0.83      0.88      0.85       234\n",
      "        ALAH       0.85      0.97      0.91       234\n",
      "        ALAI       0.85      0.92      0.88       288\n",
      "       ALAMN       0.75      0.81      0.78       235\n",
      "        ALAU       0.88      0.78      0.83       231\n",
      "         ALE       0.81      0.89      0.84       340\n",
      "        ALEE       0.89      0.84      0.87       232\n",
      "         ALI       0.87      0.80      0.84       278\n",
      "         ALO       0.79      0.78      0.78       445\n",
      "        ALOO       0.80      0.82      0.81       285\n",
      "        ALRA       0.94      0.96      0.95       176\n",
      "        ALRU       0.80      0.88      0.84       233\n",
      "         ALU       0.82      0.93      0.87       340\n",
      "         ANA       0.87      0.91      0.89       232\n",
      "        ANAH       0.84      0.88      0.86       233\n",
      "        ANAI       0.85      0.84      0.84       269\n",
      "       ANAMN       0.85      0.76      0.80       233\n",
      "        ANAU       0.76      0.90      0.82       234\n",
      "         ANE       0.91      0.83      0.87       338\n",
      "        ANEE       0.72      0.77      0.75       204\n",
      "         ANI       0.84      0.85      0.84       278\n",
      "         ANO       0.79      0.90      0.84       191\n",
      "        ANOO       0.84      0.67      0.75       258\n",
      "        ANRA       0.99      0.81      0.89       288\n",
      "        ANRU       0.84      0.83      0.84       234\n",
      "         ANU       0.79      0.85      0.82       305\n",
      "       ARADA       0.76      0.87      0.81       232\n",
      "      ARADHA       0.85      0.67      0.75       234\n",
      "       ARALA       0.78      0.78      0.78       177\n",
      "       ARANA       0.87      0.91      0.89       234\n",
      "       ARATA       0.80      0.88      0.84       234\n",
      "      ARATHA       0.95      0.87      0.91       233\n",
      "        ARBA       0.95      0.85      0.90       178\n",
      "       ARBHA       0.89      0.84      0.86       177\n",
      "       ARCHA       0.91      0.85      0.88       234\n",
      "      ARCHHA       0.86      0.74      0.80       233\n",
      "        ARDA       0.84      0.85      0.85       178\n",
      "       ARDHA       0.62      0.82      0.71       177\n",
      "        ARFA       0.82      0.80      0.81       177\n",
      "        ARGA       0.90      0.80      0.85       232\n",
      "       ARGHA       0.86      0.45      0.59       232\n",
      "       ARGNA       0.81      0.61      0.70       178\n",
      "        ARHA       0.79      0.57      0.66       178\n",
      "        ARJA       0.91      0.90      0.91       234\n",
      "        ARKA       0.80      0.76      0.78       243\n",
      "       ARKHA       0.94      0.88      0.91       233\n",
      "       ARKSA       0.80      0.61      0.69       179\n",
      "        ARLA       0.87      0.81      0.84       180\n",
      "        ARMA       0.91      0.77      0.84       177\n",
      "        ARNA       0.93      0.84      0.88       176\n",
      "        ARPA       0.94      0.82      0.88       179\n",
      "        ARRA       0.71      0.81      0.76       233\n",
      "        ARSA       0.84      0.69      0.76       126\n",
      "       ARSHA       0.78      0.68      0.73       280\n",
      "      ARSHHA       0.70      0.75      0.72       178\n",
      "        ARTA       0.90      0.82      0.86       233\n",
      "       ARTHA       0.86      0.87      0.87       177\n",
      "        ARVA       0.74      0.76      0.75       178\n",
      "        ARYA       0.76      0.78      0.77       232\n",
      "        ARZA       0.94      0.83      0.88       235\n",
      "         ATA       0.89      0.90      0.90       178\n",
      "        ATAH       0.77      0.84      0.80       234\n",
      "        ATAI       0.92      0.84      0.87       287\n",
      "       ATAMN       0.87      0.85      0.86       255\n",
      "        ATAU       0.78      0.84      0.81       234\n",
      "         ATE       0.79      0.90      0.84       279\n",
      "        ATEE       0.88      0.91      0.89       232\n",
      "        ATHA       0.97      0.84      0.90       234\n",
      "       ATHAH       0.80      0.72      0.76       233\n",
      "       ATHAI       0.93      0.80      0.86       289\n",
      "      ATHAMN       0.77      0.80      0.78       259\n",
      "       ATHAU       0.77      0.76      0.76       232\n",
      "        ATHE       0.84      0.74      0.78       292\n",
      "       ATHEE       0.92      0.78      0.84       233\n",
      "        ATHI       0.88      0.78      0.83       287\n",
      "        ATHO       0.84      0.79      0.82       234\n",
      "       ATHOO       0.85      0.94      0.89       251\n",
      "       ATHRA       0.75      0.70      0.72       285\n",
      "       ATHRU       0.70      0.71      0.71       232\n",
      "        ATHU       0.68      0.58      0.62       337\n",
      "         ATI       0.90      0.93      0.91       288\n",
      "         ATO       0.92      0.90      0.91       230\n",
      "        ATOO       0.83      0.50      0.62       210\n",
      "        ATRA       0.63      0.83      0.72       234\n",
      "        ATRU       0.74      0.82      0.78       232\n",
      "         ATU       0.85      0.84      0.84       316\n",
      "          BA       0.82      0.89      0.86       234\n",
      "         BAH       0.75      0.87      0.81       232\n",
      "         BAI       0.81      0.88      0.84       279\n",
      "        BAMN       0.73      0.85      0.79       233\n",
      "         BAU       0.74      0.83      0.78       234\n",
      "          BE       0.77      0.85      0.81       326\n",
      "         BEE       0.80      0.74      0.77       234\n",
      "         BHA       0.93      0.91      0.92       233\n",
      "        BHAH       0.85      0.91      0.88       232\n",
      "        BHAI       0.94      0.83      0.88       282\n",
      "       BHAMN       0.82      0.84      0.83       182\n",
      "        BHAU       0.91      0.77      0.83       232\n",
      "         BHE       0.87      0.80      0.83       287\n",
      "        BHEE       0.88      0.76      0.82       234\n",
      "         BHI       0.87      0.77      0.82       279\n",
      "         BHO       0.80      0.91      0.85       230\n",
      "        BHOO       0.78      0.86      0.82       262\n",
      "        BHRA       0.79      0.82      0.81       284\n",
      "        BHRU       0.92      0.79      0.85       232\n",
      "         BHU       0.83      0.79      0.81       329\n",
      "          BI       0.78      0.79      0.78       278\n",
      "          BO       0.72      0.91      0.81       232\n",
      "         BOO       0.79      0.82      0.80       266\n",
      "         BRA       0.86      0.84      0.85       289\n",
      "         BRU       0.95      0.94      0.95       234\n",
      "          BU       0.77      0.87      0.82       388\n",
      "         CHA       0.92      0.83      0.87       234\n",
      "        CHAH       0.70      0.81      0.75       232\n",
      "        CHAI       0.85      0.79      0.82       286\n",
      "       CHAMN       0.82      0.82      0.82       275\n",
      "        CHAU       0.87      0.70      0.78       233\n",
      "         CHE       0.84      0.87      0.86       338\n",
      "        CHEE       0.92      0.82      0.86       234\n",
      "        CHHA       0.81      0.82      0.82       233\n",
      "       CHHAH       0.61      0.76      0.68       234\n",
      "       CHHAI       0.87      0.84      0.85       291\n",
      "      CHHAMN       0.89      0.74      0.81       287\n",
      "       CHHAU       0.81      0.71      0.76       233\n",
      "        CHHE       0.78      0.88      0.83       332\n",
      "       CHHEE       0.84      0.81      0.82       272\n",
      "        CHHI       0.87      0.79      0.83       234\n",
      "        CHHO       0.87      0.87      0.87       248\n",
      "       CHHOO       0.79      0.68      0.73       227\n",
      "       CHHRA       0.55      0.72      0.63       288\n",
      "       CHHRU       0.62      0.71      0.66       233\n",
      "        CHHU       0.75      0.74      0.74       338\n",
      "         CHI       0.84      0.70      0.76       233\n",
      "         CHO       0.80      0.79      0.79       255\n",
      "        CHOO       0.91      0.79      0.84       230\n",
      "        CHRA       0.93      0.87      0.90       232\n",
      "        CHRU       0.79      0.84      0.81       176\n",
      "         CHU       0.76      0.79      0.77       340\n",
      "          DA       0.93      0.91      0.92       233\n",
      "         DAH       0.83      0.90      0.87       234\n",
      "         DAI       0.89      0.88      0.88       287\n",
      "        DAMN       0.82      0.77      0.80       233\n",
      "         DAU       0.70      0.80      0.75       232\n",
      "          DE       0.87      0.87      0.87       333\n",
      "         DEE       0.80      0.82      0.81       234\n",
      "         DHA       0.74      0.79      0.76       288\n",
      "        DHAH       0.64      0.59      0.62       232\n",
      "        DHAI       0.67      0.77      0.72       287\n",
      "       DHAMN       0.70      0.66      0.68       232\n",
      "        DHAU       0.77      0.63      0.69       233\n",
      "         DHE       0.83      0.84      0.83       335\n",
      "        DHEE       0.75      0.59      0.66       196\n",
      "         DHI       0.84      0.77      0.80       289\n",
      "         DHO       0.93      0.95      0.94       514\n",
      "        DHOO       0.69      0.63      0.66       310\n",
      "        DHRA       0.79      0.62      0.70       259\n",
      "        DHRU       0.72      0.71      0.72       298\n",
      "         DHU       0.73      0.59      0.65       280\n",
      "          DI       0.87      0.88      0.87       287\n",
      "          DO       0.89      0.88      0.89       234\n",
      "         DOO       0.62      0.62      0.62       239\n",
      "         DRA       0.73      0.74      0.74       278\n",
      "         DRU       0.75      0.72      0.74       232\n",
      "          DU       0.67      0.66      0.66       307\n",
      "          FA       0.80      0.72      0.76       232\n",
      "         FAH       0.71      0.77      0.74       234\n",
      "         FAI       0.89      0.70      0.78       290\n",
      "        FAMN       0.85      0.69      0.76       232\n",
      "         FAU       0.85      0.76      0.80       233\n",
      "          FE       0.69      0.88      0.78       327\n",
      "         FEE       0.76      0.68      0.72       234\n",
      "          FI       0.55      0.82      0.66       286\n",
      "          FO       0.90      0.88      0.89       233\n",
      "         FOO       0.62      0.47      0.54       257\n",
      "         FRA       0.56      0.65      0.60       285\n",
      "         FRU       0.75      0.58      0.65       232\n",
      "          FU       0.59      0.69      0.64       338\n",
      "          GA       0.95      0.92      0.94       233\n",
      "         GAH       0.88      0.80      0.84       233\n",
      "         GAI       0.91      0.82      0.86       231\n",
      "        GAMN       0.85      0.92      0.88       283\n",
      "         GAU       0.89      0.83      0.86       234\n",
      "          GE       0.88      0.94      0.91       339\n",
      "         GEE       0.86      0.83      0.84       232\n",
      "         GHA       0.88      0.58      0.70       231\n",
      "        GHAH       0.59      0.70      0.64       234\n",
      "        GHAI       0.91      0.23      0.37       229\n",
      "       GHAMN       0.84      0.69      0.76       278\n",
      "        GHAU       0.67      0.68      0.67       238\n",
      "         GHE       0.93      0.95      0.94       342\n",
      "        GHEE       0.71      0.77      0.74       232\n",
      "         GHI       0.79      0.67      0.73       232\n",
      "         GHO       0.82      0.75      0.79       276\n",
      "        GHOO       0.81      0.70      0.75       174\n",
      "        GHRA       0.59      0.75      0.66       233\n",
      "        GHRU       0.68      0.64      0.66       168\n",
      "         GHU       0.78      0.74      0.76       335\n",
      "          GI       0.86      0.81      0.83       232\n",
      "         GNA       0.89      0.90      0.90       233\n",
      "        GNAH       0.91      0.90      0.90       233\n",
      "        GNAI       0.93      0.79      0.85       287\n",
      "       GNAMN       0.82      0.78      0.80       230\n",
      "        GNAU       0.92      0.68      0.78       233\n",
      "         GNE       0.90      0.79      0.84       343\n",
      "        GNEE       0.84      0.87      0.86       232\n",
      "         GNI       0.76      0.73      0.74       288\n",
      "         GNO       0.86      0.81      0.84       446\n",
      "        GNOO       0.84      0.72      0.78       284\n",
      "        GNRA       0.95      0.90      0.93       178\n",
      "        GNRU       0.81      0.77      0.79       213\n",
      "         GNU       0.82      0.87      0.84       326\n",
      "          GO       0.88      0.88      0.88       286\n",
      "         GOO       0.93      0.73      0.82       232\n",
      "         GRA       0.75      0.81      0.78       234\n",
      "         GRU       0.80      0.88      0.84       234\n",
      "          GU       0.78      0.91      0.84       342\n",
      "          HA       0.86      0.87      0.87       232\n",
      "         HAH       0.80      0.83      0.82       232\n",
      "         HAI       0.86      0.80      0.83       265\n",
      "        HAMN       0.78      0.64      0.71       284\n",
      "         HAU       0.80      0.60      0.68       233\n",
      "          HE       0.77      0.72      0.74       342\n",
      "         HEE       0.88      0.79      0.83       230\n",
      "          HI       0.77      0.67      0.72       282\n",
      "          HO       0.84      0.78      0.81       449\n",
      "         HOO       0.76      0.66      0.70       286\n",
      "         HRA       0.94      0.95      0.95       325\n",
      "         HRU       0.66      0.76      0.70       234\n",
      "          HU       0.75      0.66      0.70       332\n",
      "          JA       0.78      0.86      0.82       235\n",
      "         JAH       0.78      0.84      0.81       233\n",
      "         JAI       0.93      0.88      0.90       287\n",
      "        JAMN       0.85      0.83      0.84       287\n",
      "         JAU       0.79      0.79      0.79       233\n",
      "          JE       0.78      0.91      0.84       323\n",
      "         JEE       0.68      0.82      0.74       233\n",
      "          JI       0.95      0.84      0.89       289\n",
      "          JO       0.82      0.94      0.87       233\n",
      "         JOO       0.78      0.78      0.78       219\n",
      "         JRA       0.69      0.79      0.74       232\n",
      "         JRU       0.84      0.68      0.75       234\n",
      "          JU       0.74      0.86      0.80       327\n",
      "          KA       0.80      0.73      0.76       232\n",
      "         KAH       0.72      0.81      0.76       231\n",
      "         KAI       0.76      0.85      0.81       234\n",
      "        KAMN       0.83      0.81      0.82       266\n",
      "         KAU       0.78      0.79      0.79       235\n",
      "          KE       0.87      0.70      0.78       375\n",
      "         KEE       0.83      0.78      0.80       232\n",
      "         KHA       0.79      0.89      0.84       233\n",
      "        KHAH       0.73      0.83      0.78       232\n",
      "        KHAI       0.76      0.89      0.82       233\n",
      "       KHAMN       0.87      0.87      0.87       287\n",
      "        KHAU       0.78      0.74      0.76       235\n",
      "         KHE       0.95      0.71      0.81       373\n",
      "        KHEE       0.81      0.87      0.84       232\n",
      "         KHI       0.76      0.82      0.79       233\n",
      "         KHO       0.82      0.88      0.85       286\n",
      "        KHOO       0.83      0.84      0.83       232\n",
      "        KHRA       0.89      0.89      0.89       235\n",
      "        KHRU       0.73      0.79      0.76       232\n",
      "         KHU       0.79      0.80      0.80       335\n",
      "          KI       0.70      0.51      0.59       232\n",
      "          KO       0.82      0.83      0.82       288\n",
      "         KOO       0.68      0.59      0.63       230\n",
      "         KRA       0.69      0.77      0.73       479\n",
      "         KRU       0.53      0.54      0.53       234\n",
      "         KSA       0.85      0.82      0.83       234\n",
      "        KSAH       0.74      0.88      0.81       234\n",
      "        KSAI       0.88      0.82      0.85       289\n",
      "       KSAMN       0.77      0.70      0.74       233\n",
      "        KSAU       0.80      0.70      0.74       234\n",
      "         KSE       0.85      0.81      0.83       340\n",
      "        KSEE       0.78      0.87      0.82       232\n",
      "         KSI       0.76      0.73      0.74       269\n",
      "         KSO       0.78      0.70      0.74       444\n",
      "        KSOO       0.70      0.80      0.74       288\n",
      "        KSRA       0.92      0.93      0.93       175\n",
      "        KSRU       0.83      0.70      0.76       229\n",
      "         KSU       0.91      0.80      0.85       334\n",
      "          KU       0.57      0.64      0.60       340\n",
      "          LA       0.89      0.91      0.90       234\n",
      "         LAH       0.97      0.79      0.87       235\n",
      "         LAI       0.92      0.89      0.91       288\n",
      "        LAMN       0.88      0.84      0.86       234\n",
      "         LAU       0.89      0.84      0.87       233\n",
      "          LE       0.89      0.92      0.90       337\n",
      "         LEE       0.74      0.93      0.82       234\n",
      "          LI       0.81      0.75      0.78       280\n",
      "          LO       0.88      0.76      0.81       445\n",
      "         LOO       0.67      0.88      0.76       275\n",
      "         LRA       0.81      0.83      0.82       231\n",
      "         LRU       0.90      0.83      0.86       232\n",
      "          LU       0.87      0.75      0.81       228\n",
      "          MA       0.88      0.91      0.89       235\n",
      "         MAH       0.88      0.88      0.88       234\n",
      "         MAI       0.92      0.76      0.83       286\n",
      "        MAMN       0.80      0.82      0.81       234\n",
      "         MAU       0.84      0.74      0.79       233\n",
      "          ME       0.80      0.89      0.84       300\n",
      "         MEE       0.94      0.88      0.91       233\n",
      "          MI       0.74      0.81      0.77       273\n",
      "          MO       0.84      0.80      0.82       227\n",
      "         MOO       0.82      0.77      0.80       274\n",
      "         MRA       0.86      0.87      0.87       287\n",
      "         MRU       0.76      0.78      0.77       233\n",
      "          MU       0.81      0.76      0.78       326\n",
      "          NA       0.81      0.78      0.80       232\n",
      "         NAH       0.79      0.89      0.84       234\n",
      "         NAI       0.90      0.86      0.88       287\n",
      "        NAMN       0.80      0.87      0.83       231\n",
      "         NAU       0.83      0.84      0.84       234\n",
      "          NE       0.90      0.87      0.88       310\n",
      "         NEE       0.72      0.80      0.76       234\n",
      "          NI       0.82      0.76      0.79       288\n",
      "          NO       0.87      0.93      0.90       233\n",
      "         NOO       0.76      0.76      0.76       237\n",
      "         NRA       0.84      0.76      0.79       251\n",
      "         NRU       0.84      0.91      0.88       232\n",
      "          NU       0.85      0.87      0.86       307\n",
      "          PA       0.78      0.71      0.75       231\n",
      "         PAH       0.68      0.64      0.66       233\n",
      "         PAI       0.86      0.70      0.77       288\n",
      "        PAMN       0.77      0.74      0.76       227\n",
      "         PAU       0.64      0.77      0.70       233\n",
      "          PE       0.83      0.85      0.84       336\n",
      "         PEE       0.68      0.68      0.68       233\n",
      "          PI       0.59      0.85      0.70       286\n",
      "          PO       0.61      0.86      0.72       233\n",
      "         POO       0.73      0.74      0.73       273\n",
      "         PRA       0.71      0.82      0.76       286\n",
      "         PRU       0.69      0.75      0.72       234\n",
      "          PU       0.78      0.82      0.80       343\n",
      "          RA       0.81      0.89      0.85       180\n",
      "         RAH       0.80      0.92      0.86       232\n",
      "         RAI       0.86      0.88      0.87       287\n",
      "        RAMN       0.72      0.86      0.79       232\n",
      "         RAU       0.90      0.88      0.89       177\n",
      "          RE       0.75      0.87      0.80       287\n",
      "         REE       0.81      0.92      0.86       234\n",
      "          RI       0.74      0.87      0.80       281\n",
      "          RO       0.74      0.80      0.77       142\n",
      "         ROO       0.65      0.80      0.72       274\n",
      "         RRA       0.92      0.94      0.93       176\n",
      "         RRU       0.80      0.75      0.77       225\n",
      "          RU       0.84      0.83      0.84       320\n",
      "          SA       0.91      0.91      0.91       233\n",
      "         SAH       0.88      0.85      0.86       236\n",
      "         SAI       0.75      0.86      0.80       276\n",
      "        SAMN       0.83      0.87      0.85       234\n",
      "         SAU       0.80      0.84      0.82       231\n",
      "          SE       0.84      0.88      0.86       341\n",
      "         SEE       0.90      0.80      0.85       210\n",
      "         SHA       0.91      0.88      0.90       286\n",
      "        SHAH       0.83      0.81      0.82       234\n",
      "        SHAI       0.87      0.84      0.85       287\n",
      "       SHAMN       0.72      0.85      0.78       233\n",
      "        SHAU       0.94      0.93      0.93       287\n",
      "         SHE       0.78      0.81      0.79       341\n",
      "        SHEE       0.87      0.93      0.90       234\n",
      "        SHHA       0.87      0.90      0.88       234\n",
      "       SHHAH       0.87      0.79      0.83       232\n",
      "       SHHAI       0.81      0.79      0.80       286\n",
      "      SHHAMN       0.82      0.94      0.88       233\n",
      "       SHHAU       0.88      0.76      0.82       233\n",
      "        SHHE       0.78      0.84      0.81       336\n",
      "       SHHEE       0.88      0.82      0.85       234\n",
      "        SHHI       0.87      0.68      0.76       289\n",
      "        SHHO       0.85      0.78      0.81       445\n",
      "       SHHOO       0.80      0.79      0.79       282\n",
      "       SHHRA       0.83      0.86      0.84        22\n",
      "       SHHRU       0.77      0.86      0.82       233\n",
      "        SHHU       0.88      0.82      0.85       338\n",
      "         SHI       0.86      0.76      0.81       287\n",
      "         SHO       0.75      0.89      0.81       449\n",
      "        SHOO       0.83      0.74      0.78       277\n",
      "        SHRA       0.92      0.94      0.93       176\n",
      "        SHRU       0.73      0.93      0.82       286\n",
      "         SHU       0.80      0.92      0.85       339\n",
      "          SI       0.80      0.84      0.82       282\n",
      "          SO       0.79      0.87      0.83       446\n",
      "         SOO       0.86      0.72      0.78       282\n",
      "         SRA       0.98      0.96      0.97       342\n",
      "         SRU       0.69      0.84      0.76       232\n",
      "          SU       0.92      0.87      0.89       328\n",
      "          TA       0.87      0.88      0.87       234\n",
      "         TAH       0.94      0.95      0.95       234\n",
      "         TAI       0.93      0.86      0.90       287\n",
      "        TAMN       0.89      0.89      0.89       234\n",
      "         TAU       0.90      0.84      0.87       232\n",
      "          TE       0.85      0.91      0.88       342\n",
      "         TEE       0.83      0.88      0.86       233\n",
      "         THA       0.83      0.89      0.86       234\n",
      "        THAH       0.82      0.96      0.88       234\n",
      "        THAI       0.80      0.85      0.82       288\n",
      "       THAMN       0.83      0.71      0.76       234\n",
      "        THAU       0.76      0.87      0.81       232\n",
      "         THE       0.77      0.93      0.84       337\n",
      "        THEE       0.64      0.88      0.74       234\n",
      "         THI       0.92      0.86      0.89       258\n",
      "         THO       0.87      0.86      0.86       182\n",
      "        THOO       0.85      0.82      0.84       257\n",
      "        THRA       0.76      0.90      0.83       287\n",
      "        THRU       0.95      0.87      0.91       233\n",
      "         THU       0.80      0.83      0.82       326\n",
      "          TI       0.82      0.86      0.84       278\n",
      "          TO       0.88      0.90      0.89       182\n",
      "         TOO       0.81      0.84      0.83       264\n",
      "         TRA       0.87      0.77      0.82       289\n",
      "         TRU       0.73      0.82      0.77       234\n",
      "          TU       0.85      0.87      0.86       334\n",
      "          VA       0.92      0.89      0.91       234\n",
      "         VAH       0.81      0.87      0.84       232\n",
      "         VAI       0.89      0.86      0.87       287\n",
      "        VAMN       0.77      0.70      0.74       233\n",
      "         VAU       0.84      0.69      0.76       232\n",
      "          VE       0.82      0.88      0.85       331\n",
      "         VEE       0.93      0.84      0.88       234\n",
      "          VI       0.87      0.83      0.85       287\n",
      "          VO       0.83      0.82      0.82       445\n",
      "         VOO       0.81      0.78      0.79       269\n",
      "         VRA       0.70      0.87      0.77       267\n",
      "         VRU       0.87      0.86      0.87       234\n",
      "          VU       0.83      0.78      0.80       303\n",
      "          YA       0.80      0.84      0.82       232\n",
      "         YAH       0.70      0.75      0.72       233\n",
      "         YAI       0.79      0.80      0.80       286\n",
      "        YAMN       0.78      0.79      0.78       232\n",
      "         YAU       0.80      0.62      0.70       232\n",
      "          YE       0.88      0.88      0.88       288\n",
      "         YEE       0.77      0.74      0.75       234\n",
      "          YI       0.81      0.47      0.60       260\n",
      "          YO       0.78      0.50      0.61       216\n",
      "         YOO       0.78      0.72      0.75       278\n",
      "         YRA       0.75      0.68      0.72       281\n",
      "         YRU       0.71      0.57      0.64       234\n",
      "          YU       0.83      0.78      0.80       316\n",
      "          ZA       0.92      0.90      0.91       232\n",
      "         ZAH       0.89      0.83      0.86       233\n",
      "         ZAI       0.93      0.81      0.86       288\n",
      "        ZAMN       0.85      0.75      0.80       259\n",
      "         ZAU       0.94      0.78      0.85       233\n",
      "          ZE       0.79      0.91      0.85       292\n",
      "         ZEE       0.81      0.84      0.83       234\n",
      "          ZI       0.86      0.85      0.86       285\n",
      "          ZO       0.88      0.89      0.89       233\n",
      "         ZOO       0.85      0.62      0.72       214\n",
      "         ZRA       0.65      0.85      0.73       234\n",
      "         ZRU       0.96      0.91      0.94       232\n",
      "          ZU       0.83      0.77      0.80       319\n",
      "\n",
      "    accuracy                           0.81    123240\n",
      "   macro avg       0.81      0.81      0.81    123240\n",
      "weighted avg       0.81      0.81      0.81    123240\n",
      "\n",
      "confusion_matrix : [[203   4   0 ...   0   0   0]\n",
      " [  0 203   0 ...   0   0   0]\n",
      " [  0   0 245 ...   0   0   0]\n",
      " ...\n",
      " [  0   0   0 ... 198   0   5]\n",
      " [  0   0   0 ...   0 212   0]\n",
      " [  0   1   0 ...  18   0 247]]\n"
     ]
    }
   ],
   "source": [
    "print(f\"Classification Report : {classification_rep}\")\n",
    "print(f\"confusion_matrix : {confusion_mat}\")\n"
   ]
  },
  {
   "cell_type": "code",
   "execution_count": 52,
   "id": "WE8U71o2b__1",
   "metadata": {
    "colab": {
     "base_uri": "https://localhost:8080/"
    },
    "executionInfo": {
     "elapsed": 13,
     "status": "ok",
     "timestamp": 1706949312749,
     "user": {
      "displayName": "Snehal Shukla",
      "userId": "13308935849291023492"
     },
     "user_tz": -330
    },
    "id": "WE8U71o2b__1",
    "outputId": "69305086-2a5b-4da1-fcf4-88192b422411"
   },
   "outputs": [
    {
     "name": "stderr",
     "output_type": "stream",
     "text": [
      "/usr/local/lib/python3.10/dist-packages/keras/src/engine/training.py:3103: UserWarning: You are saving your model as an HDF5 file via `model.save()`. This file format is considered legacy. We recommend using instead the native Keras format, e.g. `model.save('my_model.keras')`.\n",
      "  saving_api.save_model(\n"
     ]
    },
    {
     "data": {
      "text/plain": [
       "['/content/drive/MyDrive/models/Character_label_encoder_gray_v2.joblib']"
      ]
     },
     "execution_count": 52,
     "metadata": {},
     "output_type": "execute_result"
    }
   ],
   "source": [
    "model.save('/content/drive/MyDrive/models/Character_model_gray_v2.h5')\n",
    "joblib.dump(label_encoder, '/content/drive/MyDrive/models/Character_label_encoder_gray_v2.joblib')"
   ]
  },
  {
   "cell_type": "code",
   "execution_count": 53,
   "id": "g9CvFKHjX6ew",
   "metadata": {
    "executionInfo": {
     "elapsed": 7,
     "status": "ok",
     "timestamp": 1706949312749,
     "user": {
      "displayName": "Snehal Shukla",
      "userId": "13308935849291023492"
     },
     "user_tz": -330
    },
    "id": "g9CvFKHjX6ew"
   },
   "outputs": [],
   "source": [
    "np.save('/content/drive/MyDrive/Phd_project/models/Character_label_encoder_gray_v2.npy', label_encoder.classes_)"
   ]
  },
  {
   "cell_type": "code",
   "execution_count": 54,
   "id": "49dbc3bb",
   "metadata": {
    "executionInfo": {
     "elapsed": 7,
     "status": "ok",
     "timestamp": 1706949312749,
     "user": {
      "displayName": "Snehal Shukla",
      "userId": "13308935849291023492"
     },
     "user_tz": -330
    },
    "id": "49dbc3bb"
   },
   "outputs": [],
   "source": [
    "np.savetxt('confusion_matrix_char_gray_v2.txt', confusion_mat, fmt='%d')\n"
   ]
  },
  {
   "cell_type": "code",
   "execution_count": 55,
   "id": "ikjxgYjBYDeK",
   "metadata": {
    "colab": {
     "base_uri": "https://localhost:8080/"
    },
    "executionInfo": {
     "elapsed": 6,
     "status": "ok",
     "timestamp": 1706949312749,
     "user": {
      "displayName": "Snehal Shukla",
      "userId": "13308935849291023492"
     },
     "user_tz": -330
    },
    "id": "ikjxgYjBYDeK",
    "outputId": "ccddcbfc-7582-4ae5-e1ef-aa70277e6923"
   },
   "outputs": [
    {
     "data": {
      "text/plain": [
       "array(['ARZA', 'ZAI', 'ALRU', ..., 'ATHAMN', 'FO', 'ATU'], dtype='<U6')"
      ]
     },
     "execution_count": 55,
     "metadata": {},
     "output_type": "execute_result"
    }
   ],
   "source": [
    "predicted_labels_str"
   ]
  },
  {
   "cell_type": "code",
   "execution_count": null,
   "id": "3AVcsknkHP0W",
   "metadata": {
    "id": "3AVcsknkHP0W"
   },
   "outputs": [],
   "source": [
    "sns.heatmap(confusion_mat, annot=True, fmt='d', cmap='Blues', cbar=False,xticklabels=predicted_labels_str, yticklabels=true_labels_str)\n",
    "\n",
    "plt.title('Confusion Matrix')\n",
    "plt.xlabel('Predicted Label')\n",
    "plt.ylabel('True Label')\n",
    "plt.show()"
   ]
  },
  {
   "cell_type": "code",
   "execution_count": null,
   "id": "2AYUaLEXYeKo",
   "metadata": {
    "id": "2AYUaLEXYeKo"
   },
   "outputs": [],
   "source": []
  }
 ],
 "metadata": {
  "accelerator": "GPU",
  "colab": {
   "gpuType": "A100",
   "machine_shape": "hm",
   "provenance": []
  },
  "kernelspec": {
   "display_name": "Python 3 (ipykernel)",
   "language": "python",
   "name": "python3"
  },
  "language_info": {
   "codemirror_mode": {
    "name": "ipython",
    "version": 3
   },
   "file_extension": ".py",
   "mimetype": "text/x-python",
   "name": "python",
   "nbconvert_exporter": "python",
   "pygments_lexer": "ipython3",
   "version": "3.11.5"
  }
 },
 "nbformat": 4,
 "nbformat_minor": 5
}
